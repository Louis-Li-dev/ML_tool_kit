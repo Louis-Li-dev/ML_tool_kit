{
 "cells": [
  {
   "cell_type": "code",
   "execution_count": 2,
   "metadata": {},
   "outputs": [],
   "source": [
    "import torch\n",
    "import torch.nn as nn\n",
    "import torch.optim as optim\n",
    "import numpy as np\n",
    "from torch_support.nn_utils import training_loop\n",
    "from torch_support.tensor_utils import xy_to_tensordataset\n",
    "\n",
    "from tqdm import tqdm"
   ]
  },
  {
   "cell_type": "code",
   "execution_count": null,
   "metadata": {},
   "outputs": [],
   "source": [
    "\n",
    "\n",
    "# Example model: a simple feed-forward network for classification\n",
    "class SimpleNet(nn.Module):\n",
    "    def __init__(self, input_dim, hidden_dim, output_dim):\n",
    "        super().__init__()\n",
    "        self.layer1 = nn.Linear(input_dim, hidden_dim)\n",
    "        self.relu = nn.ReLU()\n",
    "        self.layer2 = nn.Linear(hidden_dim, output_dim)\n",
    "\n",
    "    def forward(self, x):\n",
    "        # x should have shape [batch_size, input_dim]\n",
    "        out = self.layer1(x)\n",
    "        out = self.relu(out)\n",
    "        out = self.layer2(out)\n",
    "        return out\n",
    "\n",
    "# Example usage of the training_loop\n",
    "if __name__ == \"__main__\":\n",
    "    # 1. Create some synthetic data (for demonstration)\n",
    "    #    Suppose we have 1000 samples, each with 20 features, and we want 3-class classification.\n",
    "    np.random.seed(42)\n",
    "    X = np.random.randn(10000, 20).astype(np.float32)\n",
    "    y = np.random.randint(0, 3, size=(10000,))\n",
    "\n",
    "    train_loader, val_loader = xy_to_tensordataset(X, y.astype(np.int64), val_ratio=.2, return_loader=True)\n",
    "\n",
    "    # 3. Initialize the model, loss, optimizer\n",
    "    model = SimpleNet(input_dim=20, hidden_dim=50, output_dim=3)\n",
    "    device = torch.device(\"cuda\" if torch.cuda.is_available() else \"cpu\")\n",
    "    criterion = nn.CrossEntropyLoss()\n",
    "    optimizer = optim.Adam(model.parameters(), lr=1e-3)\n",
    "\n",
    "    # 4. Define or import your training_loop function\n",
    "    # (Assuming you've already defined it in your code as shown previously.)\n",
    "    # from your_script_name import training_loop\n",
    "\n",
    "    # 5. Train the model\n",
    "    trained_model = training_loop(\n",
    "        model=model,\n",
    "        device=device,\n",
    "        train_loader=train_loader,\n",
    "        optimizer=optimizer,\n",
    "        criterion=criterion,\n",
    "        epochs=5,              # Number of epochs\n",
    "        val_loader=val_loader  # Use the validation loader to check val loss\n",
    "    )\n",
    "\n",
    "    # 6. After training, you can do further evaluation or inference\n",
    "    model.eval()\n",
    "    test_input = torch.randn(1, 20, device=device)  # A single sample\n",
    "    with torch.no_grad():\n",
    "        logits = trained_model(test_input)\n",
    "        predicted_label = torch.argmax(logits, dim=1)\n",
    "    print(\"Example inference on a single test sample:\", predicted_label.item())\n",
    "\n"
   ]
  }
 ],
 "metadata": {
  "kernelspec": {
   "display_name": "base",
   "language": "python",
   "name": "python3"
  },
  "language_info": {
   "codemirror_mode": {
    "name": "ipython",
    "version": 3
   },
   "file_extension": ".py",
   "mimetype": "text/x-python",
   "name": "python",
   "nbconvert_exporter": "python",
   "pygments_lexer": "ipython3",
   "version": "3.11.5"
  }
 },
 "nbformat": 4,
 "nbformat_minor": 2
}
