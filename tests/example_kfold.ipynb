{
 "cells": [
  {
   "cell_type": "markdown",
   "metadata": {},
   "source": [
    "- Install Dependencies"
   ]
  },
  {
   "cell_type": "code",
   "execution_count": 2,
   "metadata": {},
   "outputs": [
    {
     "name": "stdout",
     "output_type": "stream",
     "text": [
      "Collecting git+https://github.com/Louis-Li-dev/ML_tool_kit\n",
      "  Cloning https://github.com/Louis-Li-dev/ML_tool_kit to c:\\users\\ss348\\appdata\\local\\temp\\pip-req-build-ft42t57_\n",
      "  Resolved https://github.com/Louis-Li-dev/ML_tool_kit to commit 194ca725e77a367b1e1f3925aa9014676da64cc6\n",
      "  Preparing metadata (setup.py): started\n",
      "  Preparing metadata (setup.py): finished with status 'done'\n",
      "Requirement already satisfied: tqdm==4.66.5 in c:\\users\\ss348\\anaconda3\\lib\\site-packages (from ML-toolkit==0.2.0) (4.66.5)\n",
      "Requirement already satisfied: torch==2.4.0 in c:\\users\\ss348\\anaconda3\\lib\\site-packages (from ML-toolkit==0.2.0) (2.4.0+cu118)\n",
      "Requirement already satisfied: numpy==1.26.4 in c:\\users\\ss348\\anaconda3\\lib\\site-packages (from ML-toolkit==0.2.0) (1.26.4)\n",
      "Requirement already satisfied: pandas==2.2.3 in c:\\users\\ss348\\anaconda3\\lib\\site-packages (from ML-toolkit==0.2.0) (2.2.3)\n",
      "Requirement already satisfied: matplotlib==3.10.0 in c:\\users\\ss348\\anaconda3\\lib\\site-packages (from ML-toolkit==0.2.0) (3.10.0)\n",
      "Requirement already satisfied: torch-geometric==2.5.3 in c:\\users\\ss348\\anaconda3\\lib\\site-packages (from ML-toolkit==0.2.0) (2.5.3)\n",
      "Requirement already satisfied: scikit-learn==1.4.2 in c:\\users\\ss348\\anaconda3\\lib\\site-packages (from ML-toolkit==0.2.0) (1.4.2)\n",
      "Requirement already satisfied: cycler>=0.10 in c:\\users\\ss348\\anaconda3\\lib\\site-packages (from matplotlib==3.10.0->ML-toolkit==0.2.0) (0.12.1)\n",
      "Requirement already satisfied: pyparsing>=2.3.1 in c:\\users\\ss348\\anaconda3\\lib\\site-packages (from matplotlib==3.10.0->ML-toolkit==0.2.0) (3.2.1)\n",
      "Requirement already satisfied: fonttools>=4.22.0 in c:\\users\\ss348\\anaconda3\\lib\\site-packages (from matplotlib==3.10.0->ML-toolkit==0.2.0) (4.55.3)\n",
      "Requirement already satisfied: pillow>=8 in c:\\users\\ss348\\anaconda3\\lib\\site-packages (from matplotlib==3.10.0->ML-toolkit==0.2.0) (11.1.0)\n",
      "Requirement already satisfied: contourpy>=1.0.1 in c:\\users\\ss348\\anaconda3\\lib\\site-packages (from matplotlib==3.10.0->ML-toolkit==0.2.0) (1.3.1)\n",
      "Requirement already satisfied: python-dateutil>=2.7 in c:\\users\\ss348\\anaconda3\\lib\\site-packages (from matplotlib==3.10.0->ML-toolkit==0.2.0) (2.9.0.post0)\n",
      "Requirement already satisfied: kiwisolver>=1.3.1 in c:\\users\\ss348\\anaconda3\\lib\\site-packages (from matplotlib==3.10.0->ML-toolkit==0.2.0) (1.4.8)\n",
      "Requirement already satisfied: packaging>=20.0 in c:\\users\\ss348\\anaconda3\\lib\\site-packages (from matplotlib==3.10.0->ML-toolkit==0.2.0) (24.2)\n",
      "Requirement already satisfied: tzdata>=2022.7 in c:\\users\\ss348\\appdata\\roaming\\python\\python311\\site-packages (from pandas==2.2.3->ML-toolkit==0.2.0) (2024.1)\n",
      "Requirement already satisfied: pytz>=2020.1 in c:\\users\\ss348\\appdata\\roaming\\python\\python311\\site-packages (from pandas==2.2.3->ML-toolkit==0.2.0) (2024.1)\n",
      "Requirement already satisfied: threadpoolctl>=2.0.0 in c:\\users\\ss348\\anaconda3\\lib\\site-packages (from scikit-learn==1.4.2->ML-toolkit==0.2.0) (3.1.0)\n",
      "Requirement already satisfied: joblib>=1.2.0 in c:\\users\\ss348\\anaconda3\\lib\\site-packages (from scikit-learn==1.4.2->ML-toolkit==0.2.0) (1.2.0)\n",
      "Requirement already satisfied: scipy>=1.6.0 in c:\\users\\ss348\\anaconda3\\lib\\site-packages (from scikit-learn==1.4.2->ML-toolkit==0.2.0) (1.11.4)\n",
      "Requirement already satisfied: networkx in c:\\users\\ss348\\anaconda3\\lib\\site-packages (from torch==2.4.0->ML-toolkit==0.2.0) (3.1)\n",
      "Requirement already satisfied: fsspec in c:\\users\\ss348\\anaconda3\\lib\\site-packages (from torch==2.4.0->ML-toolkit==0.2.0) (2023.10.0)\n",
      "Requirement already satisfied: typing-extensions>=4.8.0 in c:\\users\\ss348\\anaconda3\\lib\\site-packages (from torch==2.4.0->ML-toolkit==0.2.0) (4.12.2)\n",
      "Requirement already satisfied: jinja2 in c:\\users\\ss348\\anaconda3\\lib\\site-packages (from torch==2.4.0->ML-toolkit==0.2.0) (3.1.2)\n",
      "Requirement already satisfied: sympy in c:\\users\\ss348\\anaconda3\\lib\\site-packages (from torch==2.4.0->ML-toolkit==0.2.0) (1.13.1)\n",
      "Requirement already satisfied: filelock in c:\\users\\ss348\\anaconda3\\lib\\site-packages (from torch==2.4.0->ML-toolkit==0.2.0) (3.13.1)\n",
      "Requirement already satisfied: aiohttp in c:\\users\\ss348\\anaconda3\\lib\\site-packages (from torch-geometric==2.5.3->ML-toolkit==0.2.0) (3.10.2)\n",
      "Requirement already satisfied: psutil>=5.8.0 in c:\\users\\ss348\\appdata\\roaming\\python\\python311\\site-packages (from torch-geometric==2.5.3->ML-toolkit==0.2.0) (5.9.8)\n",
      "Requirement already satisfied: requests in c:\\users\\ss348\\anaconda3\\lib\\site-packages (from torch-geometric==2.5.3->ML-toolkit==0.2.0) (2.32.3)\n",
      "Requirement already satisfied: colorama in c:\\users\\ss348\\appdata\\roaming\\python\\python311\\site-packages (from tqdm==4.66.5->ML-toolkit==0.2.0) (0.4.6)\n",
      "Requirement already satisfied: six>=1.5 in c:\\users\\ss348\\anaconda3\\lib\\site-packages (from python-dateutil>=2.7->matplotlib==3.10.0->ML-toolkit==0.2.0) (1.17.0)\n",
      "Requirement already satisfied: multidict<7.0,>=4.5 in c:\\users\\ss348\\anaconda3\\lib\\site-packages (from aiohttp->torch-geometric==2.5.3->ML-toolkit==0.2.0) (6.0.4)\n",
      "Requirement already satisfied: yarl<2.0,>=1.0 in c:\\users\\ss348\\anaconda3\\lib\\site-packages (from aiohttp->torch-geometric==2.5.3->ML-toolkit==0.2.0) (1.9.3)\n",
      "Requirement already satisfied: frozenlist>=1.1.1 in c:\\users\\ss348\\anaconda3\\lib\\site-packages (from aiohttp->torch-geometric==2.5.3->ML-toolkit==0.2.0) (1.4.0)\n",
      "Requirement already satisfied: aiosignal>=1.1.2 in c:\\users\\ss348\\anaconda3\\lib\\site-packages (from aiohttp->torch-geometric==2.5.3->ML-toolkit==0.2.0) (1.2.0)\n",
      "Requirement already satisfied: attrs>=17.3.0 in c:\\users\\ss348\\anaconda3\\lib\\site-packages (from aiohttp->torch-geometric==2.5.3->ML-toolkit==0.2.0) (23.1.0)\n",
      "Requirement already satisfied: aiohappyeyeballs>=2.3.0 in c:\\users\\ss348\\anaconda3\\lib\\site-packages (from aiohttp->torch-geometric==2.5.3->ML-toolkit==0.2.0) (2.3.5)\n",
      "Requirement already satisfied: MarkupSafe>=2.0 in c:\\users\\ss348\\appdata\\roaming\\python\\python311\\site-packages (from jinja2->torch==2.4.0->ML-toolkit==0.2.0) (2.1.5)\n",
      "Requirement already satisfied: urllib3<3,>=1.21.1 in c:\\users\\ss348\\anaconda3\\lib\\site-packages (from requests->torch-geometric==2.5.3->ML-toolkit==0.2.0) (2.2.2)\n",
      "Requirement already satisfied: certifi>=2017.4.17 in c:\\users\\ss348\\anaconda3\\lib\\site-packages (from requests->torch-geometric==2.5.3->ML-toolkit==0.2.0) (2024.8.30)\n",
      "Requirement already satisfied: charset-normalizer<4,>=2 in c:\\users\\ss348\\anaconda3\\lib\\site-packages (from requests->torch-geometric==2.5.3->ML-toolkit==0.2.0) (2.0.4)\n",
      "Requirement already satisfied: idna<4,>=2.5 in c:\\users\\ss348\\anaconda3\\lib\\site-packages (from requests->torch-geometric==2.5.3->ML-toolkit==0.2.0) (3.4)\n",
      "Requirement already satisfied: mpmath<1.4,>=1.1.0 in c:\\users\\ss348\\anaconda3\\lib\\site-packages (from sympy->torch==2.4.0->ML-toolkit==0.2.0) (1.3.0)\n",
      "Note: you may need to restart the kernel to use updated packages.\n"
     ]
    },
    {
     "name": "stderr",
     "output_type": "stream",
     "text": [
      "  Running command git clone --filter=blob:none -q https://github.com/Louis-Li-dev/ML_tool_kit 'C:\\Users\\ss348\\AppData\\Local\\Temp\\pip-req-build-ft42t57_'\n"
     ]
    }
   ],
   "source": [
    "%pip install git+https://github.com/Louis-Li-dev/ML_tool_kit\n",
    "# %pip install torch\n",
    "# %pip install numpy\n",
    "# %pip install matplotlib\n",
    "# %pip install tqdm"
   ]
  },
  {
   "cell_type": "markdown",
   "metadata": {},
   "source": [
    "- Import Packages"
   ]
  },
  {
   "cell_type": "code",
   "execution_count": 3,
   "metadata": {},
   "outputs": [],
   "source": [
    "from sklearn.model_selection import KFold\n",
    "from torchvision import transforms  # If you're dealing with image data\n",
    "import torch.nn as nn\n",
    "from mkit.torch_support.nn_utils import training_loop\n",
    "from mkit.torch_support.tensor_utils import k_fold_validation\n",
    "from mkit.torch_support.model.Autoencoder import GANEncoder\n",
    "from torchvision import transforms\n",
    "from torchvision.datasets import MNIST\n",
    "from torch.utils.data import Subset\n",
    "from tqdm import tqdm\n",
    "import torch"
   ]
  },
  {
   "cell_type": "markdown",
   "metadata": {},
   "source": [
    "- Define Models"
   ]
  },
  {
   "cell_type": "code",
   "execution_count": 4,
   "metadata": {},
   "outputs": [],
   "source": [
    "\n",
    "class Predictor(nn.Module):\n",
    "    def __init__(self, width, height, hidden_dims, output_dim):\n",
    "        \"\"\"\n",
    "        Predictor class with GANEncoder and fully connected layers for prediction.\n",
    "\n",
    "        Args:\n",
    "            hidden_dims (list[int]): List of dimensions for convolutional layers in GANEncoder.\n",
    "            output_dim (int): Dimension of the prediction output.\n",
    "        \"\"\"\n",
    "        super(Predictor, self).__init__()\n",
    "        \n",
    "        # Encoder\n",
    "        self.encoder = GANEncoder(hidden_dims=hidden_dims)\n",
    "        \n",
    "        # Fully connected layers for prediction\n",
    "        self.fc_layers = nn.Sequential(\n",
    "            nn.Linear(hidden_dims[-1] * width * height, 128),  # From the last encoder dimension to 128\n",
    "            nn.ReLU(),\n",
    "            nn.Linear(128, 64),              # From 128 to 64\n",
    "            nn.ReLU(),\n",
    "            nn.Linear(64, output_dim)        # From 64 to output dimension\n",
    "        )\n",
    "\n",
    "    def forward(self, x):\n",
    "        \"\"\"\n",
    "        Forward pass for the predictor.\n",
    "\n",
    "        Args:\n",
    "            x (torch.Tensor): Input tensor.\n",
    "\n",
    "        Returns:\n",
    "            torch.Tensor: Prediction output.\n",
    "        \"\"\"\n",
    "        x = self.encoder(x)  # Pass through the encoder\n",
    "        x = x.view(x.size(0), -1)  # Flatten the output for the fully connected layers\n",
    "        x = self.fc_layers(x)  # Pass through the fully connected layers\n",
    "        return x"
   ]
  },
  {
   "cell_type": "markdown",
   "metadata": {},
   "source": [
    "- Use MNIST Data"
   ]
  },
  {
   "cell_type": "code",
   "execution_count": 5,
   "metadata": {},
   "outputs": [],
   "source": [
    "\n",
    "\n",
    "transform = transforms.Compose([\n",
    "    transforms.ToTensor(),\n",
    "    transforms.Normalize((0.1307,), (0.3081,))\n",
    "])\n",
    "\n",
    "from torch.utils.data import DataLoader, random_split\n",
    "dataset = MNIST(root='./data', train=False, download=True, transform=transform)\n"
   ]
  },
  {
   "cell_type": "code",
   "execution_count": 6,
   "metadata": {},
   "outputs": [
    {
     "name": "stdout",
     "output_type": "stream",
     "text": [
      "Current Fold: [1/5]\n",
      "Training Data Size: 8000; Testing Data Size: 2000\n",
      "Data Parsed.\n"
     ]
    },
    {
     "name": "stderr",
     "output_type": "stream",
     "text": [
      "EPOCH 1/5: 100%|██████████| 8000/8000 [00:59<00:00, 135.25it/s]\n"
     ]
    },
    {
     "name": "stdout",
     "output_type": "stream",
     "text": [
      "Epoch [1/5] Training Loss: 0.4964 "
     ]
    },
    {
     "name": "stderr",
     "output_type": "stream",
     "text": [
      "EPOCH 2/5: 100%|██████████| 8000/8000 [00:59<00:00, 134.93it/s]\n"
     ]
    },
    {
     "name": "stdout",
     "output_type": "stream",
     "text": [
      "Epoch [2/5] Training Loss: 0.2645 "
     ]
    },
    {
     "name": "stderr",
     "output_type": "stream",
     "text": [
      "EPOCH 3/5: 100%|██████████| 8000/8000 [01:00<00:00, 132.59it/s]\n"
     ]
    },
    {
     "name": "stdout",
     "output_type": "stream",
     "text": [
      "Epoch [3/5] Training Loss: 0.2164 "
     ]
    },
    {
     "name": "stderr",
     "output_type": "stream",
     "text": [
      "EPOCH 4/5: 100%|██████████| 8000/8000 [00:58<00:00, 136.50it/s]\n"
     ]
    },
    {
     "name": "stdout",
     "output_type": "stream",
     "text": [
      "Epoch [4/5] Training Loss: 0.1605 "
     ]
    },
    {
     "name": "stderr",
     "output_type": "stream",
     "text": [
      "EPOCH 5/5:  51%|█████     | 4084/8000 [00:29<00:27, 139.87it/s]\n"
     ]
    },
    {
     "ename": "KeyboardInterrupt",
     "evalue": "",
     "output_type": "error",
     "traceback": [
      "\u001b[1;31m---------------------------------------------------------------------------\u001b[0m",
      "\u001b[1;31mKeyboardInterrupt\u001b[0m                         Traceback (most recent call last)",
      "Cell \u001b[1;32mIn[6], line 62\u001b[0m\n\u001b[0;32m     51\u001b[0m     model, device, criterion \u001b[38;5;241m=\u001b[39m training_procedure(\n\u001b[0;32m     52\u001b[0m         train_loader\n\u001b[0;32m     53\u001b[0m     )\n\u001b[0;32m     54\u001b[0m     testing_procedure(\n\u001b[0;32m     55\u001b[0m         model,\n\u001b[0;32m     56\u001b[0m         test_loader, \n\u001b[0;32m     57\u001b[0m         device,\n\u001b[0;32m     58\u001b[0m         criterion\n\u001b[0;32m     59\u001b[0m     )\n\u001b[1;32m---> 62\u001b[0m \u001b[43mk_fold_validation\u001b[49m\u001b[43m(\u001b[49m\u001b[43mdataset\u001b[49m\u001b[43m,\u001b[49m\u001b[43m \u001b[49m\u001b[43mprocedure\u001b[49m\u001b[38;5;241;43m=\u001b[39;49m\u001b[43mprocedure\u001b[49m\u001b[43m)\u001b[49m\n",
      "File \u001b[1;32mc:\\Users\\ss348\\anaconda3\\Lib\\site-packages\\mkit\\torch_support\\tensor_utils.py:157\u001b[0m, in \u001b[0;36mk_fold_validation\u001b[1;34m(dataset, n_splits, procedure, **kwargs)\u001b[0m\n\u001b[0;32m    155\u001b[0m train_subset \u001b[38;5;241m=\u001b[39m Subset(dataset, train_ids)\n\u001b[0;32m    156\u001b[0m test_subset \u001b[38;5;241m=\u001b[39m Subset(dataset, val_ids)\n\u001b[1;32m--> 157\u001b[0m \u001b[43mprocedure\u001b[49m\u001b[43m(\u001b[49m\u001b[43mtrain_subset\u001b[49m\u001b[43m,\u001b[49m\u001b[43m \u001b[49m\u001b[43mtest_subset\u001b[49m\u001b[43m,\u001b[49m\u001b[43m \u001b[49m\u001b[38;5;241;43m*\u001b[39;49m\u001b[38;5;241;43m*\u001b[39;49m\u001b[43mkwargs\u001b[49m\u001b[43m)\u001b[49m\n",
      "Cell \u001b[1;32mIn[6], line 51\u001b[0m, in \u001b[0;36mprocedure\u001b[1;34m(train_subset, test_subset, **kwargs)\u001b[0m\n\u001b[0;32m     49\u001b[0m test_loader \u001b[38;5;241m=\u001b[39m DataLoader(test_subset)\n\u001b[0;32m     50\u001b[0m \u001b[38;5;28mprint\u001b[39m(\u001b[38;5;124m\"\u001b[39m\u001b[38;5;124mData Parsed.\u001b[39m\u001b[38;5;124m\"\u001b[39m)\n\u001b[1;32m---> 51\u001b[0m model, device, criterion \u001b[38;5;241m=\u001b[39m \u001b[43mtraining_procedure\u001b[49m\u001b[43m(\u001b[49m\n\u001b[0;32m     52\u001b[0m \u001b[43m    \u001b[49m\u001b[43mtrain_loader\u001b[49m\n\u001b[0;32m     53\u001b[0m \u001b[43m\u001b[49m\u001b[43m)\u001b[49m\n\u001b[0;32m     54\u001b[0m testing_procedure(\n\u001b[0;32m     55\u001b[0m     model,\n\u001b[0;32m     56\u001b[0m     test_loader, \n\u001b[0;32m     57\u001b[0m     device,\n\u001b[0;32m     58\u001b[0m     criterion\n\u001b[0;32m     59\u001b[0m )\n",
      "Cell \u001b[1;32mIn[6], line 7\u001b[0m, in \u001b[0;36mtraining_procedure\u001b[1;34m(train_loader)\u001b[0m\n\u001b[0;32m      5\u001b[0m device \u001b[38;5;241m=\u001b[39m torch\u001b[38;5;241m.\u001b[39mdevice(\u001b[38;5;124m'\u001b[39m\u001b[38;5;124mcuda\u001b[39m\u001b[38;5;124m'\u001b[39m)\n\u001b[0;32m      6\u001b[0m criterion \u001b[38;5;241m=\u001b[39m torch\u001b[38;5;241m.\u001b[39mnn\u001b[38;5;241m.\u001b[39mCrossEntropyLoss()\n\u001b[1;32m----> 7\u001b[0m model, losses \u001b[38;5;241m=\u001b[39m \u001b[43mtraining_loop\u001b[49m\u001b[43m(\u001b[49m\n\u001b[0;32m      8\u001b[0m \u001b[43m    \u001b[49m\u001b[43mmodel\u001b[49m\u001b[38;5;241;43m=\u001b[39;49m\u001b[43mmodel\u001b[49m\u001b[43m,\u001b[49m\u001b[43m \u001b[49m\n\u001b[0;32m      9\u001b[0m \u001b[43m    \u001b[49m\u001b[43mdevice\u001b[49m\u001b[38;5;241;43m=\u001b[39;49m\u001b[43mdevice\u001b[49m\u001b[43m,\u001b[49m\n\u001b[0;32m     10\u001b[0m \u001b[43m    \u001b[49m\u001b[43mtrain_loader\u001b[49m\u001b[38;5;241;43m=\u001b[39;49m\u001b[43mtrain_loader\u001b[49m\u001b[43m,\u001b[49m\n\u001b[0;32m     11\u001b[0m \u001b[43m    \u001b[49m\u001b[43moptimizer\u001b[49m\u001b[38;5;241;43m=\u001b[39;49m\u001b[43mtorch\u001b[49m\u001b[38;5;241;43m.\u001b[39;49m\u001b[43moptim\u001b[49m\u001b[38;5;241;43m.\u001b[39;49m\u001b[43mAdam\u001b[49m\u001b[43m(\u001b[49m\u001b[43mmodel\u001b[49m\u001b[38;5;241;43m.\u001b[39;49m\u001b[43mparameters\u001b[49m\u001b[43m(\u001b[49m\u001b[43m)\u001b[49m\u001b[43m)\u001b[49m\u001b[43m,\u001b[49m\n\u001b[0;32m     12\u001b[0m \u001b[43m    \u001b[49m\u001b[43mcriterion\u001b[49m\u001b[38;5;241;43m=\u001b[39;49m\u001b[43mcriterion\u001b[49m\u001b[43m,\u001b[49m\n\u001b[0;32m     13\u001b[0m \u001b[43m    \u001b[49m\u001b[43mkeep_losses\u001b[49m\u001b[38;5;241;43m=\u001b[39;49m\u001b[38;5;28;43;01mTrue\u001b[39;49;00m\u001b[43m,\u001b[49m\n\u001b[0;32m     14\u001b[0m \u001b[43m\u001b[49m\u001b[43m)\u001b[49m\n\u001b[0;32m     15\u001b[0m \u001b[38;5;28;01mreturn\u001b[39;00m model, device, criterion\n",
      "File \u001b[1;32mc:\\Users\\ss348\\anaconda3\\Lib\\site-packages\\mkit\\torch_support\\nn_utils.py:203\u001b[0m, in \u001b[0;36mtraining_loop\u001b[1;34m(model, device, train_loader, optimizer, criterion, epochs, print_every, val_loader, keep_losses, train_step_func)\u001b[0m\n\u001b[0;32m    198\u001b[0m \u001b[38;5;66;03m# Iterate over training data\u001b[39;00m\n\u001b[0;32m    199\u001b[0m \u001b[38;5;28;01mfor\u001b[39;00m batch_idx, batch \u001b[38;5;129;01min\u001b[39;00m \u001b[38;5;28menumerate\u001b[39m(\n\u001b[0;32m    200\u001b[0m     tqdm(train_loader, desc\u001b[38;5;241m=\u001b[39m\u001b[38;5;124mf\u001b[39m\u001b[38;5;124m\"\u001b[39m\u001b[38;5;124mEPOCH \u001b[39m\u001b[38;5;132;01m{\u001b[39;00mepoch\u001b[38;5;132;01m}\u001b[39;00m\u001b[38;5;124m/\u001b[39m\u001b[38;5;132;01m{\u001b[39;00mepochs\u001b[38;5;132;01m}\u001b[39;00m\u001b[38;5;124m\"\u001b[39m, leave\u001b[38;5;241m=\u001b[39m\u001b[38;5;28;01mTrue\u001b[39;00m), start\u001b[38;5;241m=\u001b[39m\u001b[38;5;241m1\u001b[39m\n\u001b[0;32m    201\u001b[0m ):\n\u001b[0;32m    202\u001b[0m     \u001b[38;5;66;03m# -- Use the train_step_func which handles everything for this batch --\u001b[39;00m\n\u001b[1;32m--> 203\u001b[0m     loss \u001b[38;5;241m=\u001b[39m \u001b[43mtrain_step_func\u001b[49m\u001b[43m(\u001b[49m\n\u001b[0;32m    204\u001b[0m \u001b[43m        \u001b[49m\u001b[43mmodel\u001b[49m\u001b[38;5;241;43m=\u001b[39;49m\u001b[43mmodel\u001b[49m\u001b[43m,\u001b[49m\n\u001b[0;32m    205\u001b[0m \u001b[43m        \u001b[49m\u001b[43moptimizer\u001b[49m\u001b[38;5;241;43m=\u001b[39;49m\u001b[43moptimizer\u001b[49m\u001b[43m,\u001b[49m\n\u001b[0;32m    206\u001b[0m \u001b[43m        \u001b[49m\u001b[43mcriterion\u001b[49m\u001b[38;5;241;43m=\u001b[39;49m\u001b[43mcriterion\u001b[49m\u001b[43m,\u001b[49m\n\u001b[0;32m    207\u001b[0m \u001b[43m        \u001b[49m\u001b[43mbatch\u001b[49m\u001b[38;5;241;43m=\u001b[39;49m\u001b[43mbatch\u001b[49m\u001b[43m,\u001b[49m\n\u001b[0;32m    208\u001b[0m \u001b[43m        \u001b[49m\u001b[43mdevice\u001b[49m\u001b[38;5;241;43m=\u001b[39;49m\u001b[43mdevice\u001b[49m\n\u001b[0;32m    209\u001b[0m \u001b[43m    \u001b[49m\u001b[43m)\u001b[49m\n\u001b[0;32m    211\u001b[0m     running_loss \u001b[38;5;241m+\u001b[39m\u001b[38;5;241m=\u001b[39m loss\u001b[38;5;241m.\u001b[39mitem()\n\u001b[0;32m    212\u001b[0m     train_loss \u001b[38;5;241m+\u001b[39m\u001b[38;5;241m=\u001b[39m loss\u001b[38;5;241m.\u001b[39mitem()\n",
      "File \u001b[1;32mc:\\Users\\ss348\\anaconda3\\Lib\\site-packages\\mkit\\torch_support\\nn_utils.py:55\u001b[0m, in \u001b[0;36mdefault_train_step\u001b[1;34m(model, optimizer, criterion, batch, device)\u001b[0m\n\u001b[0;32m     53\u001b[0m outputs \u001b[38;5;241m=\u001b[39m model(inputs)\n\u001b[0;32m     54\u001b[0m loss \u001b[38;5;241m=\u001b[39m criterion(outputs, targets)\n\u001b[1;32m---> 55\u001b[0m \u001b[43mloss\u001b[49m\u001b[38;5;241;43m.\u001b[39;49m\u001b[43mbackward\u001b[49m\u001b[43m(\u001b[49m\u001b[43m)\u001b[49m\n\u001b[0;32m     56\u001b[0m optimizer\u001b[38;5;241m.\u001b[39mstep()\n\u001b[0;32m     58\u001b[0m \u001b[38;5;28;01mreturn\u001b[39;00m loss\n",
      "File \u001b[1;32mc:\\Users\\ss348\\anaconda3\\Lib\\site-packages\\torch\\_tensor.py:521\u001b[0m, in \u001b[0;36mTensor.backward\u001b[1;34m(self, gradient, retain_graph, create_graph, inputs)\u001b[0m\n\u001b[0;32m    511\u001b[0m \u001b[38;5;28;01mif\u001b[39;00m has_torch_function_unary(\u001b[38;5;28mself\u001b[39m):\n\u001b[0;32m    512\u001b[0m     \u001b[38;5;28;01mreturn\u001b[39;00m handle_torch_function(\n\u001b[0;32m    513\u001b[0m         Tensor\u001b[38;5;241m.\u001b[39mbackward,\n\u001b[0;32m    514\u001b[0m         (\u001b[38;5;28mself\u001b[39m,),\n\u001b[1;32m   (...)\u001b[0m\n\u001b[0;32m    519\u001b[0m         inputs\u001b[38;5;241m=\u001b[39minputs,\n\u001b[0;32m    520\u001b[0m     )\n\u001b[1;32m--> 521\u001b[0m \u001b[43mtorch\u001b[49m\u001b[38;5;241;43m.\u001b[39;49m\u001b[43mautograd\u001b[49m\u001b[38;5;241;43m.\u001b[39;49m\u001b[43mbackward\u001b[49m\u001b[43m(\u001b[49m\n\u001b[0;32m    522\u001b[0m \u001b[43m    \u001b[49m\u001b[38;5;28;43mself\u001b[39;49m\u001b[43m,\u001b[49m\u001b[43m \u001b[49m\u001b[43mgradient\u001b[49m\u001b[43m,\u001b[49m\u001b[43m \u001b[49m\u001b[43mretain_graph\u001b[49m\u001b[43m,\u001b[49m\u001b[43m \u001b[49m\u001b[43mcreate_graph\u001b[49m\u001b[43m,\u001b[49m\u001b[43m \u001b[49m\u001b[43minputs\u001b[49m\u001b[38;5;241;43m=\u001b[39;49m\u001b[43minputs\u001b[49m\n\u001b[0;32m    523\u001b[0m \u001b[43m\u001b[49m\u001b[43m)\u001b[49m\n",
      "File \u001b[1;32mc:\\Users\\ss348\\anaconda3\\Lib\\site-packages\\torch\\autograd\\__init__.py:289\u001b[0m, in \u001b[0;36mbackward\u001b[1;34m(tensors, grad_tensors, retain_graph, create_graph, grad_variables, inputs)\u001b[0m\n\u001b[0;32m    284\u001b[0m     retain_graph \u001b[38;5;241m=\u001b[39m create_graph\n\u001b[0;32m    286\u001b[0m \u001b[38;5;66;03m# The reason we repeat the same comment below is that\u001b[39;00m\n\u001b[0;32m    287\u001b[0m \u001b[38;5;66;03m# some Python versions print out the first line of a multi-line function\u001b[39;00m\n\u001b[0;32m    288\u001b[0m \u001b[38;5;66;03m# calls in the traceback and some print out the last line\u001b[39;00m\n\u001b[1;32m--> 289\u001b[0m \u001b[43m_engine_run_backward\u001b[49m\u001b[43m(\u001b[49m\n\u001b[0;32m    290\u001b[0m \u001b[43m    \u001b[49m\u001b[43mtensors\u001b[49m\u001b[43m,\u001b[49m\n\u001b[0;32m    291\u001b[0m \u001b[43m    \u001b[49m\u001b[43mgrad_tensors_\u001b[49m\u001b[43m,\u001b[49m\n\u001b[0;32m    292\u001b[0m \u001b[43m    \u001b[49m\u001b[43mretain_graph\u001b[49m\u001b[43m,\u001b[49m\n\u001b[0;32m    293\u001b[0m \u001b[43m    \u001b[49m\u001b[43mcreate_graph\u001b[49m\u001b[43m,\u001b[49m\n\u001b[0;32m    294\u001b[0m \u001b[43m    \u001b[49m\u001b[43minputs\u001b[49m\u001b[43m,\u001b[49m\n\u001b[0;32m    295\u001b[0m \u001b[43m    \u001b[49m\u001b[43mallow_unreachable\u001b[49m\u001b[38;5;241;43m=\u001b[39;49m\u001b[38;5;28;43;01mTrue\u001b[39;49;00m\u001b[43m,\u001b[49m\n\u001b[0;32m    296\u001b[0m \u001b[43m    \u001b[49m\u001b[43maccumulate_grad\u001b[49m\u001b[38;5;241;43m=\u001b[39;49m\u001b[38;5;28;43;01mTrue\u001b[39;49;00m\u001b[43m,\u001b[49m\n\u001b[0;32m    297\u001b[0m \u001b[43m\u001b[49m\u001b[43m)\u001b[49m\n",
      "File \u001b[1;32mc:\\Users\\ss348\\anaconda3\\Lib\\site-packages\\torch\\autograd\\graph.py:768\u001b[0m, in \u001b[0;36m_engine_run_backward\u001b[1;34m(t_outputs, *args, **kwargs)\u001b[0m\n\u001b[0;32m    766\u001b[0m     unregister_hooks \u001b[38;5;241m=\u001b[39m _register_logging_hooks_on_whole_graph(t_outputs)\n\u001b[0;32m    767\u001b[0m \u001b[38;5;28;01mtry\u001b[39;00m:\n\u001b[1;32m--> 768\u001b[0m     \u001b[38;5;28;01mreturn\u001b[39;00m \u001b[43mVariable\u001b[49m\u001b[38;5;241;43m.\u001b[39;49m\u001b[43m_execution_engine\u001b[49m\u001b[38;5;241;43m.\u001b[39;49m\u001b[43mrun_backward\u001b[49m\u001b[43m(\u001b[49m\u001b[43m  \u001b[49m\u001b[38;5;66;43;03m# Calls into the C++ engine to run the backward pass\u001b[39;49;00m\n\u001b[0;32m    769\u001b[0m \u001b[43m        \u001b[49m\u001b[43mt_outputs\u001b[49m\u001b[43m,\u001b[49m\u001b[43m \u001b[49m\u001b[38;5;241;43m*\u001b[39;49m\u001b[43margs\u001b[49m\u001b[43m,\u001b[49m\u001b[43m \u001b[49m\u001b[38;5;241;43m*\u001b[39;49m\u001b[38;5;241;43m*\u001b[39;49m\u001b[43mkwargs\u001b[49m\n\u001b[0;32m    770\u001b[0m \u001b[43m    \u001b[49m\u001b[43m)\u001b[49m  \u001b[38;5;66;03m# Calls into the C++ engine to run the backward pass\u001b[39;00m\n\u001b[0;32m    771\u001b[0m \u001b[38;5;28;01mfinally\u001b[39;00m:\n\u001b[0;32m    772\u001b[0m     \u001b[38;5;28;01mif\u001b[39;00m attach_logging_hooks:\n",
      "\u001b[1;31mKeyboardInterrupt\u001b[0m: "
     ]
    }
   ],
   "source": [
    "\n",
    "\n",
    "def training_procedure(train_loader):\n",
    "    NUM_OF_CLASSES = 10\n",
    "    WIDTH, HEIGHT = 28, 28\n",
    "    model = Predictor(width=WIDTH, height=HEIGHT, hidden_dims=[1, 2], output_dim=NUM_OF_CLASSES)\n",
    "    device = torch.device('cuda')\n",
    "    criterion = torch.nn.CrossEntropyLoss()\n",
    "    model, losses = training_loop(\n",
    "        model=model, \n",
    "        device=device,\n",
    "        train_loader=train_loader,\n",
    "        optimizer=torch.optim.Adam(model.parameters()),\n",
    "        criterion=criterion,\n",
    "        keep_losses=True,\n",
    "    )\n",
    "    return model, device, criterion\n",
    "\n",
    "def testing_procedure(\n",
    "        model,\n",
    "        test_loader,\n",
    "        device,\n",
    "        criterion    \n",
    "    ):\n",
    "    \n",
    "    total_loss = 0.0\n",
    "    correct_predictions = 0\n",
    "    total_samples = 0\n",
    "\n",
    "    with torch.no_grad():\n",
    "        for inputs, labels in tqdm(test_loader):\n",
    "            inputs, labels = inputs.to(device), labels.to(device)  # Move data to the appropriate device\n",
    "\n",
    "            outputs = model(inputs)  # Forward pass\n",
    "            loss = criterion(outputs, labels)  # Compute loss\n",
    "            total_loss += loss.item()\n",
    "\n",
    "            # Compute accuracy\n",
    "            _, predicted = torch.max(outputs, 1)\n",
    "            correct_predictions += (predicted == labels).sum().item()\n",
    "            total_samples += labels.size(0)\n",
    "\n",
    "    average_loss = total_loss / len(test_loader)\n",
    "    accuracy = correct_predictions / total_samples\n",
    "\n",
    "    print(f'Average Loss: {average_loss:.4f}, Accuracy: {accuracy:.4%}')\n",
    "    return accuracy\n",
    "# Define the procedure function\n",
    "def procedure(train_subset, test_subset, **kwargs):\n",
    "    train_loader = DataLoader(train_subset)\n",
    "    test_loader = DataLoader(test_subset)\n",
    "    print(\"Data Parsed.\")\n",
    "    model, device, criterion = training_procedure(\n",
    "        train_loader\n",
    "    )\n",
    "    accurary = testing_procedure(\n",
    "        model,\n",
    "        test_loader, \n",
    "        device,\n",
    "        criterion\n",
    "    )\n",
    "    return {\"accurary\": accurary}\n",
    "\n",
    "result_list = k_fold_validation(dataset, procedure=procedure)\n"
   ]
  }
 ],
 "metadata": {
  "kernelspec": {
   "display_name": "base",
   "language": "python",
   "name": "python3"
  },
  "language_info": {
   "codemirror_mode": {
    "name": "ipython",
    "version": 3
   },
   "file_extension": ".py",
   "mimetype": "text/x-python",
   "name": "python",
   "nbconvert_exporter": "python",
   "pygments_lexer": "ipython3",
   "version": "3.11.5"
  }
 },
 "nbformat": 4,
 "nbformat_minor": 2
}
