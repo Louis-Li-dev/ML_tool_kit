{
 "cells": [
  {
   "cell_type": "markdown",
   "metadata": {},
   "source": [
    "- Install Dependencies"
   ]
  },
  {
   "cell_type": "code",
   "execution_count": 2,
   "metadata": {},
   "outputs": [
    {
     "name": "stdout",
     "output_type": "stream",
     "text": [
      "Collecting git+https://github.com/Louis-Li-dev/ML_tool_kit\n",
      "  Cloning https://github.com/Louis-Li-dev/ML_tool_kit to c:\\users\\ss348\\appdata\\local\\temp\\pip-req-build-9dp30wu2\n",
      "  Resolved https://github.com/Louis-Li-dev/ML_tool_kit to commit fd502a1817451bb91f87680e25a0e05785a2be5b\n",
      "  Preparing metadata (setup.py): started\n",
      "  Preparing metadata (setup.py): finished with status 'done'\n",
      "Requirement already satisfied: tqdm==4.66.5 in c:\\users\\ss348\\anaconda3\\lib\\site-packages (from ML-toolkit==0.2.3) (4.66.5)\n",
      "Requirement already satisfied: torch==2.4.0 in c:\\users\\ss348\\anaconda3\\lib\\site-packages (from ML-toolkit==0.2.3) (2.4.0+cu118)\n",
      "Requirement already satisfied: numpy==1.26.4 in c:\\users\\ss348\\anaconda3\\lib\\site-packages (from ML-toolkit==0.2.3) (1.26.4)\n",
      "Requirement already satisfied: pandas==2.2.3 in c:\\users\\ss348\\anaconda3\\lib\\site-packages (from ML-toolkit==0.2.3) (2.2.3)\n",
      "Requirement already satisfied: matplotlib==3.10.0 in c:\\users\\ss348\\anaconda3\\lib\\site-packages (from ML-toolkit==0.2.3) (3.10.0)\n",
      "Requirement already satisfied: torch-geometric==2.5.3 in c:\\users\\ss348\\anaconda3\\lib\\site-packages (from ML-toolkit==0.2.3) (2.5.3)\n",
      "Requirement already satisfied: scikit-learn==1.4.2 in c:\\users\\ss348\\anaconda3\\lib\\site-packages (from ML-toolkit==0.2.3) (1.4.2)\n",
      "Requirement already satisfied: python-dateutil>=2.7 in c:\\users\\ss348\\anaconda3\\lib\\site-packages (from matplotlib==3.10.0->ML-toolkit==0.2.3) (2.9.0.post0)\n",
      "Requirement already satisfied: pillow>=8 in c:\\users\\ss348\\anaconda3\\lib\\site-packages (from matplotlib==3.10.0->ML-toolkit==0.2.3) (11.1.0)\n",
      "Requirement already satisfied: pyparsing>=2.3.1 in c:\\users\\ss348\\anaconda3\\lib\\site-packages (from matplotlib==3.10.0->ML-toolkit==0.2.3) (3.2.1)\n",
      "Requirement already satisfied: packaging>=20.0 in c:\\users\\ss348\\anaconda3\\lib\\site-packages (from matplotlib==3.10.0->ML-toolkit==0.2.3) (24.2)\n",
      "Requirement already satisfied: cycler>=0.10 in c:\\users\\ss348\\anaconda3\\lib\\site-packages (from matplotlib==3.10.0->ML-toolkit==0.2.3) (0.12.1)\n",
      "Requirement already satisfied: contourpy>=1.0.1 in c:\\users\\ss348\\anaconda3\\lib\\site-packages (from matplotlib==3.10.0->ML-toolkit==0.2.3) (1.3.1)\n",
      "Requirement already satisfied: fonttools>=4.22.0 in c:\\users\\ss348\\anaconda3\\lib\\site-packages (from matplotlib==3.10.0->ML-toolkit==0.2.3) (4.55.3)\n",
      "Requirement already satisfied: kiwisolver>=1.3.1 in c:\\users\\ss348\\anaconda3\\lib\\site-packages (from matplotlib==3.10.0->ML-toolkit==0.2.3) (1.4.8)\n",
      "Requirement already satisfied: tzdata>=2022.7 in c:\\users\\ss348\\appdata\\roaming\\python\\python311\\site-packages (from pandas==2.2.3->ML-toolkit==0.2.3) (2024.1)\n",
      "Requirement already satisfied: pytz>=2020.1 in c:\\users\\ss348\\appdata\\roaming\\python\\python311\\site-packages (from pandas==2.2.3->ML-toolkit==0.2.3) (2024.1)\n",
      "Requirement already satisfied: scipy>=1.6.0 in c:\\users\\ss348\\anaconda3\\lib\\site-packages (from scikit-learn==1.4.2->ML-toolkit==0.2.3) (1.11.4)\n",
      "Requirement already satisfied: joblib>=1.2.0 in c:\\users\\ss348\\anaconda3\\lib\\site-packages (from scikit-learn==1.4.2->ML-toolkit==0.2.3) (1.2.0)\n",
      "Requirement already satisfied: threadpoolctl>=2.0.0 in c:\\users\\ss348\\anaconda3\\lib\\site-packages (from scikit-learn==1.4.2->ML-toolkit==0.2.3) (3.1.0)\n",
      "Requirement already satisfied: jinja2 in c:\\users\\ss348\\anaconda3\\lib\\site-packages (from torch==2.4.0->ML-toolkit==0.2.3) (3.1.2)\n",
      "Requirement already satisfied: sympy in c:\\users\\ss348\\anaconda3\\lib\\site-packages (from torch==2.4.0->ML-toolkit==0.2.3) (1.13.1)\n",
      "Requirement already satisfied: typing-extensions>=4.8.0 in c:\\users\\ss348\\anaconda3\\lib\\site-packages (from torch==2.4.0->ML-toolkit==0.2.3) (4.12.2)\n",
      "Requirement already satisfied: fsspec in c:\\users\\ss348\\anaconda3\\lib\\site-packages (from torch==2.4.0->ML-toolkit==0.2.3) (2023.10.0)\n",
      "Requirement already satisfied: networkx in c:\\users\\ss348\\anaconda3\\lib\\site-packages (from torch==2.4.0->ML-toolkit==0.2.3) (3.1)\n",
      "Requirement already satisfied: filelock in c:\\users\\ss348\\anaconda3\\lib\\site-packages (from torch==2.4.0->ML-toolkit==0.2.3) (3.13.1)\n",
      "Requirement already satisfied: requests in c:\\users\\ss348\\anaconda3\\lib\\site-packages (from torch-geometric==2.5.3->ML-toolkit==0.2.3) (2.32.3)\n",
      "Requirement already satisfied: psutil>=5.8.0 in c:\\users\\ss348\\appdata\\roaming\\python\\python311\\site-packages (from torch-geometric==2.5.3->ML-toolkit==0.2.3) (5.9.8)\n",
      "Requirement already satisfied: aiohttp in c:\\users\\ss348\\anaconda3\\lib\\site-packages (from torch-geometric==2.5.3->ML-toolkit==0.2.3) (3.10.2)\n",
      "Requirement already satisfied: colorama in c:\\users\\ss348\\appdata\\roaming\\python\\python311\\site-packages (from tqdm==4.66.5->ML-toolkit==0.2.3) (0.4.6)\n",
      "Requirement already satisfied: six>=1.5 in c:\\users\\ss348\\anaconda3\\lib\\site-packages (from python-dateutil>=2.7->matplotlib==3.10.0->ML-toolkit==0.2.3) (1.17.0)\n",
      "Requirement already satisfied: aiohappyeyeballs>=2.3.0 in c:\\users\\ss348\\anaconda3\\lib\\site-packages (from aiohttp->torch-geometric==2.5.3->ML-toolkit==0.2.3) (2.3.5)\n",
      "Requirement already satisfied: multidict<7.0,>=4.5 in c:\\users\\ss348\\anaconda3\\lib\\site-packages (from aiohttp->torch-geometric==2.5.3->ML-toolkit==0.2.3) (6.0.4)\n",
      "Requirement already satisfied: frozenlist>=1.1.1 in c:\\users\\ss348\\anaconda3\\lib\\site-packages (from aiohttp->torch-geometric==2.5.3->ML-toolkit==0.2.3) (1.4.0)\n",
      "Requirement already satisfied: attrs>=17.3.0 in c:\\users\\ss348\\anaconda3\\lib\\site-packages (from aiohttp->torch-geometric==2.5.3->ML-toolkit==0.2.3) (23.1.0)\n",
      "Requirement already satisfied: yarl<2.0,>=1.0 in c:\\users\\ss348\\anaconda3\\lib\\site-packages (from aiohttp->torch-geometric==2.5.3->ML-toolkit==0.2.3) (1.9.3)\n",
      "Requirement already satisfied: aiosignal>=1.1.2 in c:\\users\\ss348\\anaconda3\\lib\\site-packages (from aiohttp->torch-geometric==2.5.3->ML-toolkit==0.2.3) (1.2.0)\n",
      "Requirement already satisfied: MarkupSafe>=2.0 in c:\\users\\ss348\\appdata\\roaming\\python\\python311\\site-packages (from jinja2->torch==2.4.0->ML-toolkit==0.2.3) (2.1.5)\n",
      "Requirement already satisfied: certifi>=2017.4.17 in c:\\users\\ss348\\anaconda3\\lib\\site-packages (from requests->torch-geometric==2.5.3->ML-toolkit==0.2.3) (2024.8.30)\n",
      "Requirement already satisfied: idna<4,>=2.5 in c:\\users\\ss348\\anaconda3\\lib\\site-packages (from requests->torch-geometric==2.5.3->ML-toolkit==0.2.3) (3.4)\n",
      "Requirement already satisfied: charset-normalizer<4,>=2 in c:\\users\\ss348\\anaconda3\\lib\\site-packages (from requests->torch-geometric==2.5.3->ML-toolkit==0.2.3) (2.0.4)\n",
      "Requirement already satisfied: urllib3<3,>=1.21.1 in c:\\users\\ss348\\anaconda3\\lib\\site-packages (from requests->torch-geometric==2.5.3->ML-toolkit==0.2.3) (2.2.2)\n",
      "Requirement already satisfied: mpmath<1.4,>=1.1.0 in c:\\users\\ss348\\anaconda3\\lib\\site-packages (from sympy->torch==2.4.0->ML-toolkit==0.2.3) (1.3.0)\n",
      "Note: you may need to restart the kernel to use updated packages.\n"
     ]
    },
    {
     "name": "stderr",
     "output_type": "stream",
     "text": [
      "  Running command git clone --filter=blob:none -q https://github.com/Louis-Li-dev/ML_tool_kit 'C:\\Users\\ss348\\AppData\\Local\\Temp\\pip-req-build-9dp30wu2'\n"
     ]
    }
   ],
   "source": [
    "%pip install git+https://github.com/Louis-Li-dev/ML_tool_kit\n",
    "# %pip install torch\n",
    "# %pip install numpy\n",
    "# %pip install matplotlib\n",
    "# %pip install tqdm"
   ]
  },
  {
   "cell_type": "markdown",
   "metadata": {},
   "source": [
    "- Import Packages"
   ]
  },
  {
   "cell_type": "code",
   "execution_count": 3,
   "metadata": {},
   "outputs": [],
   "source": [
    "from torchvision import transforms  # If you're dealing with image data\n",
    "import torch.nn as nn\n",
    "from mkit.torch_support.nn_utils import training_loop\n",
    "from mkit.torch_support.tensor_utils import k_fold_validation\n",
    "from mkit.torch_support.model.Autoencoder import GANEncoder\n",
    "from torchvision import transforms\n",
    "from torchvision.datasets import MNIST\n",
    "from tqdm import tqdm\n",
    "import torch"
   ]
  },
  {
   "cell_type": "markdown",
   "metadata": {},
   "source": [
    "- Define Models"
   ]
  },
  {
   "cell_type": "code",
   "execution_count": 4,
   "metadata": {},
   "outputs": [],
   "source": [
    "\n",
    "class Predictor(nn.Module):\n",
    "    def __init__(self, width, height, hidden_dims, output_dim):\n",
    "        \"\"\"\n",
    "        Predictor class with GANEncoder and fully connected layers for prediction.\n",
    "\n",
    "        Args:\n",
    "            hidden_dims (list[int]): List of dimensions for convolutional layers in GANEncoder.\n",
    "            output_dim (int): Dimension of the prediction output.\n",
    "        \"\"\"\n",
    "        super(Predictor, self).__init__()\n",
    "        \n",
    "        # Encoder\n",
    "        self.encoder = GANEncoder(hidden_dims=hidden_dims)\n",
    "        \n",
    "        # Fully connected layers for prediction\n",
    "        self.fc_layers = nn.Sequential(\n",
    "            nn.Linear(hidden_dims[-1] * width * height, 128),  # From the last encoder dimension to 128\n",
    "            nn.ReLU(),\n",
    "            nn.Linear(128, 64),              # From 128 to 64\n",
    "            nn.ReLU(),\n",
    "            nn.Linear(64, output_dim)        # From 64 to output dimension\n",
    "        )\n",
    "\n",
    "    def forward(self, x):\n",
    "        \"\"\"\n",
    "        Forward pass for the predictor.\n",
    "\n",
    "        Args:\n",
    "            x (torch.Tensor): Input tensor.\n",
    "\n",
    "        Returns:\n",
    "            torch.Tensor: Prediction output.\n",
    "        \"\"\"\n",
    "        x = self.encoder(x)  # Pass through the encoder\n",
    "        x = x.view(x.size(0), -1)  # Flatten the output for the fully connected layers\n",
    "        x = self.fc_layers(x)  # Pass through the fully connected layers\n",
    "        return x"
   ]
  },
  {
   "cell_type": "markdown",
   "metadata": {},
   "source": [
    "- Use MNIST Data"
   ]
  },
  {
   "cell_type": "code",
   "execution_count": 5,
   "metadata": {},
   "outputs": [],
   "source": [
    "\n",
    "\n",
    "transform = transforms.Compose([\n",
    "    transforms.ToTensor(),\n",
    "    transforms.Normalize((0.1307,), (0.3081,))\n",
    "])\n",
    "\n",
    "from torch.utils.data import DataLoader, random_split\n",
    "dataset = MNIST(root='./data', train=False, download=True, transform=transform)\n"
   ]
  },
  {
   "cell_type": "markdown",
   "metadata": {},
   "source": [
    "- Training and Using KFolds\n",
    "    - to keep it simple, I only train the model with 2 folds and 1 epoch. In practice, you should not do the same."
   ]
  },
  {
   "cell_type": "code",
   "execution_count": null,
   "metadata": {},
   "outputs": [],
   "source": [
    "\n",
    "\n",
    "def training_procedure(train_loader):\n",
    "    NUM_OF_CLASSES = 10\n",
    "    WIDTH, HEIGHT = 28, 28\n",
    "    model = Predictor(width=WIDTH, height=HEIGHT, hidden_dims=[1, 2], output_dim=NUM_OF_CLASSES)\n",
    "    device = torch.device('cuda')\n",
    "    criterion = torch.nn.CrossEntropyLoss()\n",
    "    model, losses = training_loop(\n",
    "        model=model, \n",
    "        device=device,\n",
    "        train_loader=train_loader,\n",
    "        optimizer=torch.optim.Adam(model.parameters()),\n",
    "        criterion=criterion,\n",
    "        keep_losses=True,\n",
    "        epochs=1\n",
    "    )\n",
    "    return model, device, criterion\n",
    "\n",
    "def testing_procedure(\n",
    "        model,\n",
    "        test_loader,\n",
    "        device,\n",
    "        criterion    \n",
    "    ):\n",
    "    \n",
    "    total_loss = 0.0\n",
    "    correct_predictions = 0\n",
    "    total_samples = 0\n",
    "\n",
    "    with torch.no_grad():\n",
    "        for inputs, labels in tqdm(test_loader):\n",
    "            inputs, labels = inputs.to(device), labels.to(device)  # Move data to the appropriate device\n",
    "\n",
    "            outputs = model(inputs)  # Forward pass\n",
    "            loss = criterion(outputs, labels)  # Compute loss\n",
    "            total_loss += loss.item()\n",
    "\n",
    "            # Compute accuracy\n",
    "            _, predicted = torch.max(outputs, 1)\n",
    "            correct_predictions += (predicted == labels).sum().item()\n",
    "            total_samples += labels.size(0)\n",
    "\n",
    "    average_loss = total_loss / len(test_loader)\n",
    "    accuracy = correct_predictions / total_samples\n",
    "\n",
    "    print(f'Average Loss: {average_loss:.4f}, Accuracy: {accuracy:.4%}')\n",
    "    return accuracy\n",
    "# Define the procedure function\n",
    "def procedure(train_subset, test_subset, **kwargs):\n",
    "    train_loader = DataLoader(train_subset)\n",
    "    test_loader = DataLoader(test_subset)\n",
    "    model, device, criterion = training_procedure(\n",
    "        train_loader\n",
    "    )\n",
    "    accurary = testing_procedure(\n",
    "        model,\n",
    "        test_loader, \n",
    "        device,\n",
    "        criterion\n",
    "    )\n",
    "    return {\"accurary\": accurary}\n",
    "\n",
    "result_list = k_fold_validation(dataset, n_splits=2, procedure=procedure)\n"
   ]
  },
  {
   "cell_type": "markdown",
   "metadata": {},
   "source": [
    "- Evaluation"
   ]
  },
  {
   "cell_type": "code",
   "execution_count": null,
   "metadata": {},
   "outputs": [],
   "source": [
    "import pandas as pd\n",
    "def get_df(result_list):\n",
    "    df = pd.DataFrame(data=result_list)\n",
    "    df = df.reset_index(names=['fold'])\n",
    "    df['fold'] += 1\n",
    "    return df"
   ]
  },
  {
   "cell_type": "code",
   "execution_count": 71,
   "metadata": {},
   "outputs": [
    {
     "data": {
      "text/html": [
       "<div>\n",
       "<style scoped>\n",
       "    .dataframe tbody tr th:only-of-type {\n",
       "        vertical-align: middle;\n",
       "    }\n",
       "\n",
       "    .dataframe tbody tr th {\n",
       "        vertical-align: top;\n",
       "    }\n",
       "\n",
       "    .dataframe thead th {\n",
       "        text-align: right;\n",
       "    }\n",
       "</style>\n",
       "<table border=\"1\" class=\"dataframe\">\n",
       "  <thead>\n",
       "    <tr style=\"text-align: right;\">\n",
       "      <th></th>\n",
       "      <th>fold</th>\n",
       "      <th>accurary</th>\n",
       "    </tr>\n",
       "  </thead>\n",
       "  <tbody>\n",
       "    <tr>\n",
       "      <th>0</th>\n",
       "      <td>1</td>\n",
       "      <td>0.8628</td>\n",
       "    </tr>\n",
       "    <tr>\n",
       "      <th>1</th>\n",
       "      <td>2</td>\n",
       "      <td>0.8762</td>\n",
       "    </tr>\n",
       "  </tbody>\n",
       "</table>\n",
       "</div>"
      ],
      "text/plain": [
       "   fold  accurary\n",
       "0     1    0.8628\n",
       "1     2    0.8762"
      ]
     },
     "execution_count": 71,
     "metadata": {},
     "output_type": "execute_result"
    }
   ],
   "source": [
    "get_df(result_list)"
   ]
  },
  {
   "cell_type": "markdown",
   "metadata": {},
   "source": [
    "- Machine Learning"
   ]
  },
  {
   "cell_type": "code",
   "execution_count": 66,
   "metadata": {},
   "outputs": [],
   "source": [
    "\n",
    "\n",
    "from sklearn.model_selection import KFold\n",
    "from sklearn.neighbors import KNeighborsClassifier\n",
    "\n",
    "\n",
    "def procedure(train_subset, test_subset, **kwargs):\n",
    "    train_x, train_y, _ = train_subset\n",
    "    test_x, test_y, _ = test_subset\n",
    "    train_x = train_x.reshape(len(train_x), -1)\n",
    "    test_x = test_x.reshape(len(test_x), -1)\n",
    "    model = KNeighborsClassifier()\n",
    "    model.fit(train_x, train_y)\n",
    "    accurary = model.score(test_x, test_y)\n",
    "    return {'accurary', accurary}\n",
    "\n",
    "\n",
    "n_splits = 5\n",
    "kfold = KFold(n_splits=n_splits, shuffle=True, random_state=42)\n",
    "\n",
    "numpy_x = dataset.data\n",
    "numpy_y = dataset.targets\n",
    "dataset_tuple = tuple([numpy_x, numpy_y, numpy_x])\n"
   ]
  },
  {
   "cell_type": "code",
   "execution_count": 72,
   "metadata": {},
   "outputs": [
    {
     "data": {
      "text/html": [
       "<div>\n",
       "<style scoped>\n",
       "    .dataframe tbody tr th:only-of-type {\n",
       "        vertical-align: middle;\n",
       "    }\n",
       "\n",
       "    .dataframe tbody tr th {\n",
       "        vertical-align: top;\n",
       "    }\n",
       "\n",
       "    .dataframe thead th {\n",
       "        text-align: right;\n",
       "    }\n",
       "</style>\n",
       "<table border=\"1\" class=\"dataframe\">\n",
       "  <thead>\n",
       "    <tr style=\"text-align: right;\">\n",
       "      <th></th>\n",
       "      <th>fold</th>\n",
       "      <th>accurary</th>\n",
       "    </tr>\n",
       "  </thead>\n",
       "  <tbody>\n",
       "    <tr>\n",
       "      <th>0</th>\n",
       "      <td>1</td>\n",
       "      <td>0.8628</td>\n",
       "    </tr>\n",
       "    <tr>\n",
       "      <th>1</th>\n",
       "      <td>2</td>\n",
       "      <td>0.8762</td>\n",
       "    </tr>\n",
       "  </tbody>\n",
       "</table>\n",
       "</div>"
      ],
      "text/plain": [
       "   fold  accurary\n",
       "0     1    0.8628\n",
       "1     2    0.8762"
      ]
     },
     "execution_count": 72,
     "metadata": {},
     "output_type": "execute_result"
    }
   ],
   "source": [
    "get_df(result_list)"
   ]
  }
 ],
 "metadata": {
  "kernelspec": {
   "display_name": "base",
   "language": "python",
   "name": "python3"
  },
  "language_info": {
   "codemirror_mode": {
    "name": "ipython",
    "version": 3
   },
   "file_extension": ".py",
   "mimetype": "text/x-python",
   "name": "python",
   "nbconvert_exporter": "python",
   "pygments_lexer": "ipython3",
   "version": "3.11.5"
  }
 },
 "nbformat": 4,
 "nbformat_minor": 2
}
