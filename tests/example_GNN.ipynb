{
 "cells": [
  {
   "cell_type": "code",
   "execution_count": null,
   "metadata": {},
   "outputs": [
    {
     "name": "stdout",
     "output_type": "stream",
     "text": [
      "Collecting git+https://github.com/Louis-Li-dev/ml-toolkit\n",
      "  Cloning https://github.com/Louis-Li-dev/ml-toolkit to c:\\users\\ss348\\appdata\\local\\temp\\pip-req-build-z7p034he\n",
      "Note: you may need to restart the kernel to use updated packages.\n"
     ]
    },
    {
     "name": "stderr",
     "output_type": "stream",
     "text": [
      "  Running command git clone --filter=blob:none -q https://github.com/Louis-Li-dev/ml-toolkit 'C:\\Users\\ss348\\AppData\\Local\\Temp\\pip-req-build-z7p034he'\n",
      "  remote: Repository not found.\n",
      "  fatal: repository 'https://github.com/Louis-Li-dev/ml-toolkit/' not found\n",
      "WARNING: Discarding git+https://github.com/Louis-Li-dev/ml-toolkit. Command errored out with exit status 128: git clone --filter=blob:none -q https://github.com/Louis-Li-dev/ml-toolkit 'C:\\Users\\ss348\\AppData\\Local\\Temp\\pip-req-build-z7p034he' Check the logs for full command output.\n",
      "ERROR: Command errored out with exit status 128: git clone --filter=blob:none -q https://github.com/Louis-Li-dev/ml-toolkit 'C:\\Users\\ss348\\AppData\\Local\\Temp\\pip-req-build-z7p034he' Check the logs for full command output.\n"
     ]
    }
   ],
   "source": [
    "%pip install git+https://github.com/Louis-Li-dev/ML-Toolkit"
   ]
  },
  {
   "cell_type": "code",
   "execution_count": 4,
   "metadata": {},
   "outputs": [],
   "source": [
    "\n",
    "from torch_geometric.datasets import Planetoid\n",
    "from torch_geometric.loader import DataLoader\n"
   ]
  }
 ],
 "metadata": {
  "kernelspec": {
   "display_name": "base",
   "language": "python",
   "name": "python3"
  },
  "language_info": {
   "codemirror_mode": {
    "name": "ipython",
    "version": 3
   },
   "file_extension": ".py",
   "mimetype": "text/x-python",
   "name": "python",
   "nbconvert_exporter": "python",
   "pygments_lexer": "ipython3",
   "version": "3.11.5"
  }
 },
 "nbformat": 4,
 "nbformat_minor": 2
}
