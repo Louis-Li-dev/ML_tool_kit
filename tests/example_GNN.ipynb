{
 "cells": [
  {
   "cell_type": "code",
   "execution_count": 3,
   "metadata": {},
   "outputs": [
    {
     "ename": "ImportError",
     "evalue": "cannot import name 'MaskedGraphDataset' from 'mkit.torch_support.tensor_utils' (c:\\Users\\ss348\\anaconda3\\Lib\\site-packages\\mkit\\torch_support\\tensor_utils.py)",
     "output_type": "error",
     "traceback": [
      "\u001b[1;31m---------------------------------------------------------------------------\u001b[0m",
      "\u001b[1;31mImportError\u001b[0m                               Traceback (most recent call last)",
      "Cell \u001b[1;32mIn[3], line 2\u001b[0m\n\u001b[0;32m      1\u001b[0m \u001b[38;5;28;01mfrom\u001b[39;00m \u001b[38;5;21;01mmkit\u001b[39;00m\u001b[38;5;21;01m.\u001b[39;00m\u001b[38;5;21;01mtorch_support\u001b[39;00m\u001b[38;5;21;01m.\u001b[39;00m\u001b[38;5;21;01mmodel\u001b[39;00m\u001b[38;5;21;01m.\u001b[39;00m\u001b[38;5;21;01mGNN\u001b[39;00m \u001b[38;5;28;01mimport\u001b[39;00m GNNRegressionWithSkipConnections\n\u001b[1;32m----> 2\u001b[0m \u001b[38;5;28;01mfrom\u001b[39;00m \u001b[38;5;21;01mmkit\u001b[39;00m\u001b[38;5;21;01m.\u001b[39;00m\u001b[38;5;21;01mtorch_support\u001b[39;00m\u001b[38;5;21;01m.\u001b[39;00m\u001b[38;5;21;01mtensor_utils\u001b[39;00m \u001b[38;5;28;01mimport\u001b[39;00m graph_x_y_split, MaskedGraphDataset\n\u001b[0;32m      3\u001b[0m \u001b[38;5;28;01mfrom\u001b[39;00m \u001b[38;5;21;01mmkit\u001b[39;00m\u001b[38;5;21;01m.\u001b[39;00m\u001b[38;5;21;01mtorch_support\u001b[39;00m\u001b[38;5;21;01m.\u001b[39;00m\u001b[38;5;21;01mnn_utils\u001b[39;00m \u001b[38;5;28;01mimport\u001b[39;00m training_loop\n\u001b[0;32m      4\u001b[0m \u001b[38;5;28;01mimport\u001b[39;00m \u001b[38;5;21;01mtorch\u001b[39;00m\n",
      "\u001b[1;31mImportError\u001b[0m: cannot import name 'MaskedGraphDataset' from 'mkit.torch_support.tensor_utils' (c:\\Users\\ss348\\anaconda3\\Lib\\site-packages\\mkit\\torch_support\\tensor_utils.py)"
     ]
    }
   ],
   "source": [
    "from mkit.torch_support.model.GNN import GNNRegressionWithSkipConnections\n",
    "from mkit.torch_support.tensor_utils import graph_x_y_split, MaskedGraphDataset\n",
    "from mkit.torch_support.nn_utils import training_loop\n",
    "import torch\n",
    "from torch import  nn\n",
    "from tqdm import  tqdm\n",
    "import matplotlib.pyplot as plt\n",
    "import networkx as nx\n",
    "from sklearn.metrics import accuracy_score\n",
    "from torch_geometric.data import Data\n",
    "from torch.utils.data import DataLoader"
   ]
  },
  {
   "cell_type": "markdown",
   "metadata": {},
   "source": [
    "- Artificial Dataset Generation"
   ]
  },
  {
   "cell_type": "code",
   "execution_count": null,
   "metadata": {},
   "outputs": [],
   "source": [
    "\n",
    "# Parameters\n",
    "num_nodes = 100\n",
    "p_intra = 0.05  # Probability of intra-community edges\n",
    "p_inter = 0.005  # Probability of inter-community edges\n",
    "\n",
    "# Create a stochastic block model graph\n",
    "sizes = [50, 50]  # Two communities of 50 nodes each\n",
    "probs = [[p_intra, p_inter],\n",
    "         [p_inter, p_intra]]\n",
    "G = nx.stochastic_block_model(sizes, probs, seed=42)\n",
    "\n",
    "# Draw the graph\n",
    "pos = nx.spring_layout(G, seed=42)\n",
    "plt.figure(figsize=(8, 6))\n",
    "nx.draw(G, pos, node_color=[0]*50 + [1]*50, cmap=plt.get_cmap('coolwarm'), node_size=50)\n",
    "plt.show()\n",
    "\n",
    "# Get edge list\n",
    "edge_index = torch.tensor(list(G.edges()), dtype=torch.long).t().contiguous()\n",
    "\n",
    "# Since the graph is undirected, add both directions\n",
    "edge_index = torch.cat([edge_index, edge_index[[1, 0], :]], dim=1)\n"
   ]
  },
  {
   "cell_type": "code",
   "execution_count": 50,
   "metadata": {},
   "outputs": [],
   "source": [
    "# Assign features based on community\n",
    "# Community 0: [1, 0], Community 1: [0, 1]\n",
    "features = []\n",
    "for node in G.nodes():\n",
    "    if node < 50:\n",
    "        features.append([1, 0])\n",
    "    else:\n",
    "        features.append([0, 1])\n",
    "features = torch.tensor(features, dtype=torch.float)\n",
    "labels = torch.tensor([0]*50 + [1]*50, dtype=torch.long)\n"
   ]
  },
  {
   "cell_type": "markdown",
   "metadata": {},
   "source": [
    "- parse index"
   ]
  },
  {
   "cell_type": "code",
   "execution_count": 51,
   "metadata": {},
   "outputs": [],
   "source": [
    "# Get edge list\n",
    "edge_index = torch.tensor(list(G.edges()), dtype=torch.long).t().contiguous()\n",
    "\n",
    "# Since the graph is undirected, add both directions\n",
    "edge_index = torch.cat([edge_index, edge_index[[1, 0], :]], dim=1)\n"
   ]
  },
  {
   "cell_type": "markdown",
   "metadata": {},
   "source": [
    "- split data"
   ]
  },
  {
   "cell_type": "code",
   "execution_count": 53,
   "metadata": {},
   "outputs": [],
   "source": [
    "\n",
    "data = Data(x=features, edge_index=edge_index, y=labels)\n",
    "data = graph_x_y_split(data)\n",
    "\n",
    "\n",
    "train_dataset = MaskedGraphDataset(data, mask_type='train')\n",
    "train_loader = DataLoader(train_dataset, batch_size=32, shuffle=True)\n"
   ]
  },
  {
   "cell_type": "markdown",
   "metadata": {},
   "source": [
    "- training loop"
   ]
  },
  {
   "cell_type": "code",
   "execution_count": null,
   "metadata": {},
   "outputs": [],
   "source": [
    "EPOCHS = 20\n",
    "# Initialize the model, optimizer, and criterion\n",
    "model = GNNRegressionWithSkipConnections(2, 16, 2, 2)\n",
    "optimizer = torch.optim.Adam(model.parameters(), lr=0.01)\n",
    "criterion = nn.CrossEntropyLoss()  # Ensure this matches your task\n",
    "\n",
    "# Training loop\n",
    "for epoch in tqdm(range(EPOCHS)):\n",
    "    model.train()\n",
    "    for batch_x, batch_y, _ in train_loader:  # Node features, labels, and original indices\n",
    "        optimizer.zero_grad()\n",
    "        out = model(data)  # Forward pass on the full graph\n",
    "        loss = criterion(out[data.train_mask], data.y[data.train_mask])  # Compute loss on train nodes\n",
    "        loss.backward()\n",
    "        optimizer.step()\n",
    "\n",
    "    if epoch % 20 == 0:\n",
    "        model.eval()\n",
    "        with torch.no_grad():\n",
    "            val_loss = criterion(out[data.val_mask], data.y[data.val_mask])\n",
    "        print(f'Epoch {epoch}, Training Loss: {loss.item():.6f}, Validation Loss: {val_loss.item():.6f}')\n"
   ]
  },
  {
   "cell_type": "markdown",
   "metadata": {},
   "source": [
    "- prediction"
   ]
  },
  {
   "cell_type": "code",
   "execution_count": 17,
   "metadata": {},
   "outputs": [],
   "source": [
    "\n",
    "# After training, evaluate on the test set\n",
    "model.eval()\n",
    "with torch.no_grad():\n",
    "    test_out = model(data)\n",
    "    test_pred = test_out[data.test_mask]\n",
    "    test_true = data.y[data.test_mask]"
   ]
  },
  {
   "cell_type": "markdown",
   "metadata": {},
   "source": [
    "- evaluation"
   ]
  },
  {
   "cell_type": "code",
   "execution_count": null,
   "metadata": {},
   "outputs": [],
   "source": [
    "\n",
    "\n",
    "# Convert predictions to probabilities and predicted classes if needed (for classification)\n",
    "predicted_classes = torch.argmax(test_pred, dim=1)  # Use softmax for probabilities if needed\n",
    "\n",
    "# Plot predictions vs true labels (for classification)\n",
    "plt.figure(figsize=(8, 6))\n",
    "\n",
    "plt.scatter(range(len(test_true)), test_true.cpu(), label='True Labels', alpha=0.7)\n",
    "plt.scatter(range(len(predicted_classes)), predicted_classes.cpu(), label='Predicted Labels', alpha=0.7, marker='x')\n",
    "plt.title(f\"True vs Predicted Labels\\nAccurary \\\n",
    "          {accuracy_score(test_true.cpu(), predicted_classes.cpu())}\")\n",
    "plt.xlabel(\"Sample Index\")\n",
    "plt.ylabel(\"Class Label\")\n",
    "plt.legend()\n",
    "plt.show()\n"
   ]
  }
 ],
 "metadata": {
  "kernelspec": {
   "display_name": "base",
   "language": "python",
   "name": "python3"
  },
  "language_info": {
   "codemirror_mode": {
    "name": "ipython",
    "version": 3
   },
   "file_extension": ".py",
   "mimetype": "text/x-python",
   "name": "python",
   "nbconvert_exporter": "python",
   "pygments_lexer": "ipython3",
   "version": "3.11.5"
  }
 },
 "nbformat": 4,
 "nbformat_minor": 2
}
