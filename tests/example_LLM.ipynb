{
 "cells": [
  {
   "cell_type": "code",
   "execution_count": 1,
   "metadata": {},
   "outputs": [],
   "source": [
    "# %pip install git+https://github.com/Louis-Li-dev/ML_tool_kit"
   ]
  },
  {
   "cell_type": "markdown",
   "metadata": {},
   "source": [
    "- Import Packages"
   ]
  },
  {
   "cell_type": "code",
   "execution_count": 2,
   "metadata": {},
   "outputs": [
    {
     "ename": "ImportError",
     "evalue": "cannot import name 'TimeSeriesTransformer' from 'mkit.torch_support.model' (c:\\Users\\ss348\\anaconda3\\Lib\\site-packages\\mkit\\torch_support\\model\\__init__.py)",
     "output_type": "error",
     "traceback": [
      "\u001b[1;31m---------------------------------------------------------------------------\u001b[0m",
      "\u001b[1;31mImportError\u001b[0m                               Traceback (most recent call last)",
      "Cell \u001b[1;32mIn[2], line 10\u001b[0m\n\u001b[0;32m      8\u001b[0m \u001b[38;5;28;01mfrom\u001b[39;00m \u001b[38;5;21;01mmkit\u001b[39;00m\u001b[38;5;21;01m.\u001b[39;00m\u001b[38;5;21;01mtorch_support\u001b[39;00m\u001b[38;5;21;01m.\u001b[39;00m\u001b[38;5;21;01mtensor_utils\u001b[39;00m \u001b[38;5;28;01mimport\u001b[39;00m x_y_sequences, xy_to_tensordataset\n\u001b[0;32m      9\u001b[0m \u001b[38;5;28;01mfrom\u001b[39;00m \u001b[38;5;21;01mmkit\u001b[39;00m\u001b[38;5;21;01m.\u001b[39;00m\u001b[38;5;21;01mtorch_support\u001b[39;00m\u001b[38;5;21;01m.\u001b[39;00m\u001b[38;5;21;01mnn_utils\u001b[39;00m \u001b[38;5;28;01mimport\u001b[39;00m training_loop\n\u001b[1;32m---> 10\u001b[0m \u001b[38;5;28;01mfrom\u001b[39;00m \u001b[38;5;21;01mmkit\u001b[39;00m\u001b[38;5;21;01m.\u001b[39;00m\u001b[38;5;21;01mtorch_support\u001b[39;00m\u001b[38;5;21;01m.\u001b[39;00m\u001b[38;5;21;01mmodel\u001b[39;00m \u001b[38;5;28;01mimport\u001b[39;00m TimeSeriesTransformer\n",
      "\u001b[1;31mImportError\u001b[0m: cannot import name 'TimeSeriesTransformer' from 'mkit.torch_support.model' (c:\\Users\\ss348\\anaconda3\\Lib\\site-packages\\mkit\\torch_support\\model\\__init__.py)"
     ]
    }
   ],
   "source": [
    "import pandas as pd\n",
    "import numpy as np\n",
    "import torch\n",
    "import matplotlib.pyplot as plt\n",
    "import torch\n",
    "import torch.nn as nn\n",
    "from tqdm import tqdm\n",
    "from mkit.torch_support.tensor_utils import x_y_sequences, xy_to_tensordataset\n",
    "from mkit.torch_support.nn_utils import training_loop\n",
    "from mkit.torch_support.model import TimeSeriesTransformer"
   ]
  },
  {
   "cell_type": "markdown",
   "metadata": {},
   "source": [
    "- Data Generation"
   ]
  },
  {
   "cell_type": "code",
   "execution_count": null,
   "metadata": {},
   "outputs": [],
   "source": [
    "\n",
    "def generate_long_sine_wave(total_steps, freq=1, phase=0, amplitude=1, noise_std=0.0):\n",
    "    \"\"\"\n",
    "    Generates a long sine wave of length total_steps.\n",
    "    \n",
    "    Returns:\n",
    "      - sine_wave: Numpy array of shape (total_steps,) containing the sine wave data.\n",
    "    \"\"\"\n",
    "    t = np.linspace(0, 2 * np.pi, total_steps)\n",
    "    sine_wave = amplitude * np.sin(freq * t + phase)\n",
    "    if noise_std > 0:\n",
    "        sine_wave += np.random.normal(scale=noise_std, size=sine_wave.shape)\n",
    "    return sine_wave\n",
    "\n",
    "total_steps = 8000   # total number of time steps in the long sine wave.\n",
    "freq = 28\n",
    "phase = 0\n",
    "amplitude = 1\n",
    "noise_std = 0\n",
    "\n",
    "# Generate the long sine wave.\n",
    "sine_wave = generate_long_sine_wave(total_steps, freq=freq, phase=phase, amplitude=amplitude, noise_std=noise_std)\n",
    "\n",
    "# Visualize the long sine wave.\n",
    "plt.figure(figsize=(12, 3))\n",
    "plt.plot(sine_wave, label=\"Sine Wave\")\n",
    "plt.title(\"Long Sine Wave\")\n",
    "plt.xlabel(\"Time step\")\n",
    "plt.ylabel(\"Amplitude\")\n",
    "plt.legend()\n",
    "plt.show()"
   ]
  },
  {
   "cell_type": "markdown",
   "metadata": {},
   "source": [
    "- Data Splitting"
   ]
  },
  {
   "cell_type": "code",
   "execution_count": null,
   "metadata": {},
   "outputs": [],
   "source": [
    "\n",
    "# Define sequence extraction parameters.\n",
    "seq_len = 270     # Length of each input sequence.\n",
    "forecast_horizon = 1 # For reconstruction; use a positive value for forecasting future steps.\n",
    "train = sine_wave[:int(len(sine_wave) * .8)]\n",
    "test = sine_wave[int(len(sine_wave) * .8):]\n",
    "# Create sequences from the sine wave.\n",
    "x_all, y_all = x_y_sequences(train, seq_len, forecast_horizon)\n",
    "\n",
    "print(f\"Total sequences generated: {x_all.shape[0]}\")  # Print number of sequences.\n",
    "\n",
    "# Split the sequences into training and testing sets.\n",
    "split_ratio = 0.8\n",
    "num_train = int(split_ratio * x_all.shape[0])\n",
    "x_train, y_train = x_all[:num_train], y_all[:num_train]\n",
    "x_test, y_test = x_all[num_train:], y_all[num_train:]\n",
    "\n",
    "print(\"Training set shape:\", x_train.shape, y_train.shape)\n",
    "print(\"Testing set shape:\", x_test.shape, y_test.shape)"
   ]
  },
  {
   "cell_type": "markdown",
   "metadata": {},
   "source": [
    "- Model"
   ]
  },
  {
   "cell_type": "code",
   "execution_count": null,
   "metadata": {},
   "outputs": [],
   "source": [
    "\n",
    "\n",
    "print(\"Set up LLM model and declare params...\")\n",
    "input_dim = 1\n",
    "model_dim = 32\n",
    "output_dim = 1\n",
    "num_layers = 2\n",
    "batch_size = 32\n",
    "num_epochs = 16\n",
    "device = torch.device('cuda')\n",
    "\n",
    "model = TimeSeriesTransformer(input_dim, model_dim, output_dim, num_layers=num_layers, num_heads=2).to(device)\n",
    "\n",
    "criterion = nn.MSELoss()\n",
    "optimizer = torch.optim.Adam(model.parameters(), lr=0.001)\n",
    "train_loader = xy_to_tensordataset(x_train, y_train, return_loader=True)\n",
    "test_loader = xy_to_tensordataset(x_test, y_test, return_loader=True)\n",
    "training_loop(\n",
    "    model=model,\n",
    "    device=device,\n",
    "    train_loader=train_loader,\n",
    "    optimizer=optimizer,\n",
    "    criterion=criterion,\n",
    "    epochs=num_epochs\n",
    ")\n",
    "# --------------------------------------\n",
    "# Example Inference and Visualization\n",
    "# --------------------------------------\n",
    "model.eval()\n",
    "with torch.no_grad():\n",
    "    # Use one batch from the test set.\n",
    "    for x_sample, y_sample in test_loader:\n",
    "        x_sample = x_sample.to(device)\n",
    "        prediction = model(x_sample)\n",
    "        break\n",
    "\n",
    "# Convert tensors to numpy for plotting.\n",
    "x_sample = x_sample.cpu().numpy()\n",
    "y_sample = y_sample.cpu().numpy()\n",
    "prediction = prediction.cpu().numpy()\n",
    "\n",
    "# Plot the first sequence in the batch.\n",
    "plt.figure(figsize=(10, 4))\n",
    "plt.plot(y_sample[0].squeeze(), label=\"True Sine Wave\")\n",
    "plt.plot(prediction[0].squeeze(), label=\"Model Prediction\", linestyle=\"--\")\n",
    "plt.title(\"Sine Wave Prediction on Test Sequence\")\n",
    "plt.xlabel(\"Time step\")\n",
    "plt.ylabel(\"Amplitude\")\n",
    "plt.legend()\n",
    "plt.show()\n"
   ]
  },
  {
   "cell_type": "markdown",
   "metadata": {},
   "source": [
    "- Evaluation"
   ]
  },
  {
   "cell_type": "code",
   "execution_count": null,
   "metadata": {},
   "outputs": [],
   "source": [
    "import numpy as np\n",
    "import matplotlib.pyplot as plt\n",
    "\n",
    "# Set the model to CPU and evaluation mode.\n",
    "model.to(device)\n",
    "model.eval()\n",
    "\n",
    "last_seq = x_all[-1:, :, :]  # shape: (1, seq_len, input_dim)\n",
    "\n",
    "total_forecast_points = len(test)\n",
    "pred = []  # to collect forecasted values\n",
    "\n",
    "current_input = last_seq.clone()  # Use a clone so that we do not modify original x_all.\n",
    "\n",
    "while len(pred) < total_forecast_points:\n",
    "    with torch.no_grad():\n",
    "        forecast = model(current_input.to(device))  # shape: (1, seq_len, input_dim)\n",
    "    next_forecast = forecast[:, -forecast_horizon:, :]  # (1, forecast_horizon, input_dim)\n",
    "    pred.append(next_forecast.squeeze(0)[:, 0].cpu().detach().numpy())\n",
    "    current_input = torch.cat([current_input[:, forecast_horizon:, :].to(device), next_forecast], dim=1)\n",
    "\n",
    "pred = np.concatenate(pred)[:total_forecast_points]\n",
    "\n",
    "plt.figure(figsize=(10, 3))\n",
    "plt.plot(pred, label=\"Forecast\")\n",
    "plt.plot(test, label=\"True\")\n",
    "plt.ylim(-4, 4)\n",
    "plt.legend()\n",
    "plt.show()\n"
   ]
  }
 ],
 "metadata": {
  "kernelspec": {
   "display_name": "base",
   "language": "python",
   "name": "python3"
  },
  "language_info": {
   "codemirror_mode": {
    "name": "ipython",
    "version": 3
   },
   "file_extension": ".py",
   "mimetype": "text/x-python",
   "name": "python",
   "nbconvert_exporter": "python",
   "pygments_lexer": "ipython3",
   "version": "3.11.5"
  }
 },
 "nbformat": 4,
 "nbformat_minor": 2
}
