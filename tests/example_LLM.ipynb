{
 "cells": [
  {
   "cell_type": "code",
   "execution_count": 1,
   "metadata": {},
   "outputs": [
    {
     "ename": "ImportError",
     "evalue": "cannot import name 'x_y_sequences' from 'mkit.torch_support.tensor_utils' (c:\\Users\\ss348\\anaconda3\\Lib\\site-packages\\mkit\\torch_support\\tensor_utils.py)",
     "output_type": "error",
     "traceback": [
      "\u001b[1;31m---------------------------------------------------------------------------\u001b[0m",
      "\u001b[1;31mImportError\u001b[0m                               Traceback (most recent call last)",
      "Cell \u001b[1;32mIn[1], line 13\u001b[0m\n\u001b[0;32m     11\u001b[0m \u001b[38;5;28;01mimport\u001b[39;00m \u001b[38;5;21;01mos\u001b[39;00m\n\u001b[0;32m     12\u001b[0m \u001b[38;5;28;01mfrom\u001b[39;00m \u001b[38;5;21;01mtyping\u001b[39;00m \u001b[38;5;28;01mimport\u001b[39;00m Union\n\u001b[1;32m---> 13\u001b[0m \u001b[38;5;28;01mfrom\u001b[39;00m \u001b[38;5;21;01mmkit\u001b[39;00m\u001b[38;5;21;01m.\u001b[39;00m\u001b[38;5;21;01mtorch_support\u001b[39;00m\u001b[38;5;21;01m.\u001b[39;00m\u001b[38;5;21;01mtensor_utils\u001b[39;00m \u001b[38;5;28;01mimport\u001b[39;00m x_y_sequences\n",
      "\u001b[1;31mImportError\u001b[0m: cannot import name 'x_y_sequences' from 'mkit.torch_support.tensor_utils' (c:\\Users\\ss348\\anaconda3\\Lib\\site-packages\\mkit\\torch_support\\tensor_utils.py)"
     ]
    }
   ],
   "source": [
    "import pandas as pd\n",
    "import numpy as np\n",
    "import torch\n",
    "import matplotlib.pyplot as plt\n",
    "import torch\n",
    "import torch.nn as nn\n",
    "import torch.nn.functional as F\n",
    "import math\n",
    "from tqdm import tqdm\n",
    "from dotenv import load_dotenv\n",
    "import os\n",
    "from typing import Union\n",
    "from mkit.torch_support.tensor_utils import x_y_sequences"
   ]
  },
  {
   "cell_type": "code",
   "execution_count": 1,
   "metadata": {},
   "outputs": [
    {
     "ename": "NameError",
     "evalue": "name 'np' is not defined",
     "output_type": "error",
     "traceback": [
      "\u001b[1;31m---------------------------------------------------------------------------\u001b[0m",
      "\u001b[1;31mNameError\u001b[0m                                 Traceback (most recent call last)",
      "Cell \u001b[1;32mIn[1], line 59\u001b[0m\n\u001b[0;32m     56\u001b[0m noise_std \u001b[38;5;241m=\u001b[39m \u001b[38;5;241m0\u001b[39m\n\u001b[0;32m     58\u001b[0m \u001b[38;5;66;03m# Generate the long sine wave.\u001b[39;00m\n\u001b[1;32m---> 59\u001b[0m sine_wave \u001b[38;5;241m=\u001b[39m \u001b[43mgenerate_long_sine_wave\u001b[49m\u001b[43m(\u001b[49m\u001b[43mtotal_steps\u001b[49m\u001b[43m,\u001b[49m\u001b[43m \u001b[49m\u001b[43mfreq\u001b[49m\u001b[38;5;241;43m=\u001b[39;49m\u001b[43mfreq\u001b[49m\u001b[43m,\u001b[49m\u001b[43m \u001b[49m\u001b[43mphase\u001b[49m\u001b[38;5;241;43m=\u001b[39;49m\u001b[43mphase\u001b[49m\u001b[43m,\u001b[49m\u001b[43m \u001b[49m\u001b[43mamplitude\u001b[49m\u001b[38;5;241;43m=\u001b[39;49m\u001b[43mamplitude\u001b[49m\u001b[43m,\u001b[49m\u001b[43m \u001b[49m\u001b[43mnoise_std\u001b[49m\u001b[38;5;241;43m=\u001b[39;49m\u001b[43mnoise_std\u001b[49m\u001b[43m)\u001b[49m\n\u001b[0;32m     61\u001b[0m \u001b[38;5;66;03m# Visualize the long sine wave.\u001b[39;00m\n\u001b[0;32m     62\u001b[0m plt\u001b[38;5;241m.\u001b[39mfigure(figsize\u001b[38;5;241m=\u001b[39m(\u001b[38;5;241m12\u001b[39m, \u001b[38;5;241m3\u001b[39m))\n",
      "Cell \u001b[1;32mIn[1], line 11\u001b[0m, in \u001b[0;36mgenerate_long_sine_wave\u001b[1;34m(total_steps, freq, phase, amplitude, noise_std)\u001b[0m\n\u001b[0;32m      4\u001b[0m \u001b[38;5;28;01mdef\u001b[39;00m \u001b[38;5;21mgenerate_long_sine_wave\u001b[39m(total_steps, freq\u001b[38;5;241m=\u001b[39m\u001b[38;5;241m1\u001b[39m, phase\u001b[38;5;241m=\u001b[39m\u001b[38;5;241m0\u001b[39m, amplitude\u001b[38;5;241m=\u001b[39m\u001b[38;5;241m1\u001b[39m, noise_std\u001b[38;5;241m=\u001b[39m\u001b[38;5;241m0.0\u001b[39m):\n\u001b[0;32m      5\u001b[0m \u001b[38;5;250m    \u001b[39m\u001b[38;5;124;03m\"\"\"\u001b[39;00m\n\u001b[0;32m      6\u001b[0m \u001b[38;5;124;03m    Generates a long sine wave of length total_steps.\u001b[39;00m\n\u001b[0;32m      7\u001b[0m \u001b[38;5;124;03m    \u001b[39;00m\n\u001b[0;32m      8\u001b[0m \u001b[38;5;124;03m    Returns:\u001b[39;00m\n\u001b[0;32m      9\u001b[0m \u001b[38;5;124;03m      - sine_wave: Numpy array of shape (total_steps,) containing the sine wave data.\u001b[39;00m\n\u001b[0;32m     10\u001b[0m \u001b[38;5;124;03m    \"\"\"\u001b[39;00m\n\u001b[1;32m---> 11\u001b[0m     t \u001b[38;5;241m=\u001b[39m \u001b[43mnp\u001b[49m\u001b[38;5;241m.\u001b[39mlinspace(\u001b[38;5;241m0\u001b[39m, \u001b[38;5;241m2\u001b[39m \u001b[38;5;241m*\u001b[39m np\u001b[38;5;241m.\u001b[39mpi, total_steps)\n\u001b[0;32m     12\u001b[0m     sine_wave \u001b[38;5;241m=\u001b[39m amplitude \u001b[38;5;241m*\u001b[39m np\u001b[38;5;241m.\u001b[39msin(freq \u001b[38;5;241m*\u001b[39m t \u001b[38;5;241m+\u001b[39m phase)\n\u001b[0;32m     13\u001b[0m     \u001b[38;5;28;01mif\u001b[39;00m noise_std \u001b[38;5;241m>\u001b[39m \u001b[38;5;241m0\u001b[39m:\n",
      "\u001b[1;31mNameError\u001b[0m: name 'np' is not defined"
     ]
    }
   ],
   "source": [
    "\n",
    "# --------------------------------------\n",
    "# Sine Wave Generation and Data Preprocessing\n",
    "# --------------------------------------\n",
    "def generate_long_sine_wave(total_steps, freq=1, phase=0, amplitude=1, noise_std=0.0):\n",
    "    \"\"\"\n",
    "    Generates a long sine wave of length total_steps.\n",
    "    \n",
    "    Returns:\n",
    "      - sine_wave: Numpy array of shape (total_steps,) containing the sine wave data.\n",
    "    \"\"\"\n",
    "    t = np.linspace(0, 2 * np.pi, total_steps)\n",
    "    sine_wave = amplitude * np.sin(freq * t + phase)\n",
    "    if noise_std > 0:\n",
    "        sine_wave += np.random.normal(scale=noise_std, size=sine_wave.shape)\n",
    "    return sine_wave\n",
    "\n",
    "# --------------------------------------\n",
    "# Generate and Split the Data\n",
    "# --------------------------------------\n",
    "# Set parameters for the long sine wave.\n",
    "total_steps = 8000   # total number of time steps in the long sine wave.\n",
    "freq = 28\n",
    "phase = 0\n",
    "amplitude = 1\n",
    "noise_std = 0\n",
    "\n",
    "# Generate the long sine wave.\n",
    "sine_wave = generate_long_sine_wave(total_steps, freq=freq, phase=phase, amplitude=amplitude, noise_std=noise_std)\n",
    "\n",
    "# Visualize the long sine wave.\n",
    "plt.figure(figsize=(12, 3))\n",
    "plt.plot(sine_wave, label=\"Sine Wave\")\n",
    "plt.title(\"Long Sine Wave\")\n",
    "plt.xlabel(\"Time step\")\n",
    "plt.ylabel(\"Amplitude\")\n",
    "plt.legend()\n",
    "plt.show()"
   ]
  }
 ],
 "metadata": {
  "kernelspec": {
   "display_name": "base",
   "language": "python",
   "name": "python3"
  },
  "language_info": {
   "codemirror_mode": {
    "name": "ipython",
    "version": 3
   },
   "file_extension": ".py",
   "mimetype": "text/x-python",
   "name": "python",
   "nbconvert_exporter": "python",
   "pygments_lexer": "ipython3",
   "version": "3.11.5"
  }
 },
 "nbformat": 4,
 "nbformat_minor": 2
}
