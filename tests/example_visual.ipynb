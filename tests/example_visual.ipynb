{
 "cells": [
  {
   "cell_type": "markdown",
   "metadata": {},
   "source": [
    "- Installation"
   ]
  },
  {
   "cell_type": "code",
   "execution_count": null,
   "metadata": {},
   "outputs": [],
   "source": [
    "%pip install git+https://github.com/Louis-Li-dev/ML_tool_kit\n",
    "# %pip install torch\n",
    "# %pip install numpy\n",
    "# %pip install matplotlib\n",
    "# %pip install tqdm"
   ]
  },
  {
   "cell_type": "markdown",
   "metadata": {},
   "source": [
    "- Resolve Paths"
   ]
  },
  {
   "cell_type": "code",
   "execution_count": 10,
   "metadata": {},
   "outputs": [],
   "source": [
    "\n",
    "import os\n",
    "import sys\n",
    "BASE_DIR = os.getcwd()\n",
    "parent_dir = os.path.join(BASE_DIR, '..')\n",
    "if parent_dir not in sys.path:\n",
    "    sys.path.append(parent_dir)"
   ]
  },
  {
   "cell_type": "markdown",
   "metadata": {},
   "source": [
    "- Import Packages"
   ]
  },
  {
   "cell_type": "code",
   "execution_count": 11,
   "metadata": {},
   "outputs": [],
   "source": [
    "import torch\n",
    "import torch.nn as nn\n",
    "import torchvision\n",
    "from mkit.torch_support.nn_utils import training_loop\n",
    "from mkit.torch_support.model.Autoencoder import GANEncoder\n",
    "from mkit.torch_support.model.CNN import AdjustableCNN\n",
    "from torchvision import datasets, transforms\n",
    "from torch.utils.data import DataLoader\n",
    "import matplotlib.pyplot as plt\n",
    "from tqdm import tqdm"
   ]
  },
  {
   "cell_type": "markdown",
   "metadata": {},
   "source": [
    "- Use MNIST Data"
   ]
  },
  {
   "cell_type": "code",
   "execution_count": 12,
   "metadata": {},
   "outputs": [],
   "source": [
    "NUM_OF_CLASSES = 10\n",
    "WIDTH, HEIGHT = 28, 28"
   ]
  },
  {
   "cell_type": "code",
   "execution_count": 13,
   "metadata": {},
   "outputs": [],
   "source": [
    "\n",
    "# Define transformations for the dataset\n",
    "transform = transforms.Compose([\n",
    "    transforms.ToTensor(),\n",
    "    transforms.Normalize((0.5,), (0.5,))  # Normalize to range [-1, 1]\n",
    "])\n",
    "\n",
    "# Download and load the training dataset\n",
    "train_dataset = datasets.MNIST(\n",
    "    root='./data',\n",
    "    train=True,\n",
    "    transform=transform,\n",
    "    download=True\n",
    ")\n",
    "\n",
    "# Download and load the test dataset\n",
    "test_dataset = datasets.MNIST(\n",
    "    root='./data',\n",
    "    train=False,\n",
    "    transform=transform,\n",
    "    download=True\n",
    ")\n",
    "# Create DataLoader for batching\n",
    "train_loader = DataLoader(train_dataset, batch_size=64, shuffle=True)\n",
    "test_loader = DataLoader(test_dataset, batch_size=64, shuffle=False)\n",
    "\n"
   ]
  },
  {
   "cell_type": "markdown",
   "metadata": {},
   "source": [
    "- Inherit a model"
   ]
  },
  {
   "cell_type": "code",
   "execution_count": 14,
   "metadata": {},
   "outputs": [],
   "source": [
    "\n",
    "class Predictor(nn.Module):\n",
    "    def __init__(self, width, height, hidden_dims, output_dim):\n",
    "        \"\"\"\n",
    "        Predictor class with GANEncoder and fully connected layers for prediction.\n",
    "\n",
    "        Args:\n",
    "            hidden_dims (list[int]): List of dimensions for convolutional layers in GANEncoder.\n",
    "            output_dim (int): Dimension of the prediction output.\n",
    "        \"\"\"\n",
    "        super(Predictor, self).__init__()\n",
    "        \n",
    "        # Encoder\n",
    "        self.encoder = GANEncoder(hidden_dims=hidden_dims)\n",
    "        \n",
    "        # Fully connected layers for prediction\n",
    "        self.fc_layers = nn.Sequential(\n",
    "            nn.Linear(hidden_dims[-1] * width * height, 128),  # From the last encoder dimension to 128\n",
    "            nn.ReLU(),\n",
    "            nn.Linear(128, 64),              # From 128 to 64\n",
    "            nn.ReLU(),\n",
    "            nn.Linear(64, output_dim)        # From 64 to output dimension\n",
    "        )\n",
    "\n",
    "    def forward(self, x):\n",
    "        \"\"\"\n",
    "        Forward pass for the predictor.\n",
    "\n",
    "        Args:\n",
    "            x (torch.Tensor): Input tensor.\n",
    "\n",
    "        Returns:\n",
    "            torch.Tensor: Prediction output.\n",
    "        \"\"\"\n",
    "        x = self.encoder(x)  # Pass through the encoder\n",
    "        x = x.view(x.size(0), -1)  # Flatten the output for the fully connected layers\n",
    "        x = self.fc_layers(x)  # Pass through the fully connected layers\n",
    "        return x"
   ]
  },
  {
   "cell_type": "markdown",
   "metadata": {},
   "source": [
    "- Training"
   ]
  },
  {
   "cell_type": "code",
   "execution_count": 15,
   "metadata": {},
   "outputs": [],
   "source": [
    "\n",
    "\n",
    "x, y = next(iter(train_loader))\n",
    "\n",
    "model = Predictor(width=WIDTH, height=HEIGHT, hidden_dims=[1, 16], output_dim=NUM_OF_CLASSES)\n",
    "device = torch.device('cuda')\n",
    "\n",
    "criterion = torch.nn.CrossEntropyLoss()"
   ]
  },
  {
   "cell_type": "code",
   "execution_count": 16,
   "metadata": {},
   "outputs": [
    {
     "name": "stderr",
     "output_type": "stream",
     "text": [
      "EPOCH 1/5: 100%|██████████| 938/938 [00:40<00:00, 23.38it/s]\n"
     ]
    },
    {
     "name": "stdout",
     "output_type": "stream",
     "text": [
      "Epoch [1/5] Training Loss: 0.2764 "
     ]
    },
    {
     "name": "stderr",
     "output_type": "stream",
     "text": [
      "EPOCH 2/5: 100%|██████████| 938/938 [00:39<00:00, 23.59it/s]\n"
     ]
    },
    {
     "name": "stdout",
     "output_type": "stream",
     "text": [
      "Epoch [2/5] Training Loss: 0.1121 "
     ]
    },
    {
     "name": "stderr",
     "output_type": "stream",
     "text": [
      "EPOCH 3/5: 100%|██████████| 938/938 [00:39<00:00, 23.52it/s]\n"
     ]
    },
    {
     "name": "stdout",
     "output_type": "stream",
     "text": [
      "Epoch [3/5] Training Loss: 0.0766 "
     ]
    },
    {
     "name": "stderr",
     "output_type": "stream",
     "text": [
      "EPOCH 4/5: 100%|██████████| 938/938 [00:39<00:00, 23.59it/s]\n"
     ]
    },
    {
     "name": "stdout",
     "output_type": "stream",
     "text": [
      "Epoch [4/5] Training Loss: 0.0588 "
     ]
    },
    {
     "name": "stderr",
     "output_type": "stream",
     "text": [
      "EPOCH 5/5: 100%|██████████| 938/938 [00:39<00:00, 23.56it/s]"
     ]
    },
    {
     "name": "stdout",
     "output_type": "stream",
     "text": [
      "Epoch [5/5] Training Loss: 0.0471 Training complete.\n"
     ]
    },
    {
     "name": "stderr",
     "output_type": "stream",
     "text": [
      "\n"
     ]
    }
   ],
   "source": [
    "\n",
    "model, losses = training_loop(\n",
    "    model=model, \n",
    "    device=device,\n",
    "    train_loader=train_loader,\n",
    "    optimizer=torch.optim.Adam(model.parameters()),\n",
    "    criterion=criterion,\n",
    "    keep_losses=True,\n",
    ")"
   ]
  },
  {
   "cell_type": "markdown",
   "metadata": {},
   "source": [
    "- Evaluation"
   ]
  },
  {
   "cell_type": "code",
   "execution_count": 17,
   "metadata": {},
   "outputs": [
    {
     "name": "stderr",
     "output_type": "stream",
     "text": [
      "100%|██████████| 157/157 [00:05<00:00, 26.45it/s]"
     ]
    },
    {
     "name": "stdout",
     "output_type": "stream",
     "text": [
      "Average Loss: 0.0788, Accuracy: 97.6800%\n"
     ]
    },
    {
     "name": "stderr",
     "output_type": "stream",
     "text": [
      "\n"
     ]
    }
   ],
   "source": [
    "\n",
    "model.eval()  # Set the model to evaluation mode\n",
    "total_loss = 0.0\n",
    "correct_predictions = 0\n",
    "total_samples = 0\n",
    "\n",
    "with torch.no_grad():\n",
    "    for inputs, labels in tqdm(test_loader):\n",
    "        inputs, labels = inputs.to(device), labels.to(device)  # Move data to the appropriate device\n",
    "\n",
    "        outputs = model(inputs)  # Forward pass\n",
    "        loss = criterion(outputs, labels)  # Compute loss\n",
    "        total_loss += loss.item()\n",
    "\n",
    "        # Compute accuracy\n",
    "        _, predicted = torch.max(outputs, 1)\n",
    "        correct_predictions += (predicted == labels).sum().item()\n",
    "        total_samples += labels.size(0)\n",
    "\n",
    "average_loss = total_loss / len(test_loader)\n",
    "accuracy = correct_predictions / total_samples\n",
    "\n",
    "print(f'Average Loss: {average_loss:.4f}, Accuracy: {accuracy:.4%}')\n",
    "    "
   ]
  },
  {
   "cell_type": "markdown",
   "metadata": {},
   "source": [
    "- Case Study"
   ]
  },
  {
   "cell_type": "code",
   "execution_count": 18,
   "metadata": {},
   "outputs": [
    {
     "name": "stdout",
     "output_type": "stream",
     "text": [
      "Predictions: [7 2 1 0 4 1 4 9 5 9 0 6 9 0 1 5 9 7 3 4 9 6 6 5 4 0 7 4 0 1 3 1 3 4 7 2 7\n",
      " 1 2 1 1 7 4 2 3 5 1 2 4 4 6 3 5 5 6 0 4 1 9 5 7 8 9 3]\n",
      "True Labels:  [7 2 1 0 4 1 4 9 5 9 0 6 9 0 1 5 9 7 3 4 9 6 6 5 4 0 7 4 0 1 3 1 3 4 7 2 7\n",
      " 1 2 1 1 7 4 2 3 5 1 2 4 4 6 3 5 5 6 0 4 1 9 5 7 8 9 3]\n"
     ]
    },
    {
     "data": {
      "image/png": "[encoded data removed]",
      "text/plain": [
       "<Figure size 1200x400 with 1 Axes>"
      ]
     },
     "metadata": {},
     "output_type": "display_data"
    }
   ],
   "source": [
    "# Get a batch of test data\n",
    "test_x, test_y = next(iter(test_loader))\n",
    "\n",
    "# Move the input data to the device (e.g., 'cuda' or 'cpu')\n",
    "test_x = test_x.to(device)\n",
    "\n",
    "# Forward pass: Get model predictions\n",
    "predictions = torch.argmax(model(test_x), dim=1)  # Get the class with the highest score\n",
    "\n",
    "# Compare predictions with true labels\n",
    "print(\"Predictions:\", predictions.cpu().numpy())  # Convert predictions to NumPy array for readability\n",
    "print(\"True Labels: \", test_y.numpy())  # Convert true labels to NumPy array\n",
    "\n",
    "\n",
    "def show_predictions(images, true_labels, predicted_labels, num_images=6):\n",
    "    \"\"\"\n",
    "    Display a grid of images with their true and predicted labels.\n",
    "    \"\"\"\n",
    "    images = images[:num_images]  # Select the first `num_images`\n",
    "    true_labels = true_labels[:num_images]\n",
    "    predicted_labels = predicted_labels[:num_images]\n",
    "\n",
    "    # Create a grid of images\n",
    "    grid = torchvision.utils.make_grid(images, nrow=num_images, padding=2, normalize=True)\n",
    "    grid = grid.permute(1, 2, 0).cpu().numpy()  # Convert to NumPy for plotting\n",
    "\n",
    "    # Plot the grid of images\n",
    "    plt.figure(figsize=(12, 4))\n",
    "    plt.imshow(grid)\n",
    "    plt.title(\"True: \" + \", \".join(str(label.item()) for label in true_labels) +\n",
    "              \"\\nPred: \" + \", \".join(str(label.item()) for label in predicted_labels))\n",
    "    plt.axis('off')\n",
    "    plt.show()\n",
    "\n",
    "# Call the helper function\n",
    "show_predictions(test_x.cpu(), test_y, predictions.cpu(), num_images=6)\n"
   ]
  },
  {
   "cell_type": "markdown",
   "metadata": {},
   "source": [
    "# Use CNN"
   ]
  },
  {
   "cell_type": "code",
   "execution_count": 19,
   "metadata": {},
   "outputs": [
    {
     "name": "stderr",
     "output_type": "stream",
     "text": [
      "EPOCH 1/5: 100%|██████████| 938/938 [00:37<00:00, 24.99it/s]\n"
     ]
    },
    {
     "name": "stdout",
     "output_type": "stream",
     "text": [
      "Epoch [1/5] Training Loss: 0.3049 "
     ]
    },
    {
     "name": "stderr",
     "output_type": "stream",
     "text": [
      "EPOCH 2/5: 100%|██████████| 938/938 [00:37<00:00, 24.90it/s]\n"
     ]
    },
    {
     "name": "stdout",
     "output_type": "stream",
     "text": [
      "Epoch [2/5] Training Loss: 0.1314 "
     ]
    },
    {
     "name": "stderr",
     "output_type": "stream",
     "text": [
      "EPOCH 3/5: 100%|██████████| 938/938 [00:37<00:00, 25.13it/s]\n"
     ]
    },
    {
     "name": "stdout",
     "output_type": "stream",
     "text": [
      "Epoch [3/5] Training Loss: 0.1044 "
     ]
    },
    {
     "name": "stderr",
     "output_type": "stream",
     "text": [
      "EPOCH 4/5: 100%|██████████| 938/938 [00:35<00:00, 26.24it/s]\n"
     ]
    },
    {
     "name": "stdout",
     "output_type": "stream",
     "text": [
      "Epoch [4/5] Training Loss: 0.0907 "
     ]
    },
    {
     "name": "stderr",
     "output_type": "stream",
     "text": [
      "EPOCH 5/5: 100%|██████████| 938/938 [00:36<00:00, 26.04it/s]"
     ]
    },
    {
     "name": "stdout",
     "output_type": "stream",
     "text": [
      "Epoch [5/5] Training Loss: 0.0822 Training complete.\n"
     ]
    },
    {
     "name": "stderr",
     "output_type": "stream",
     "text": [
      "\n"
     ]
    }
   ],
   "source": [
    "model = AdjustableCNN(\n",
    "    input_channels=1,\n",
    "    num_filters = [1, 16],\n",
    "    normalization=\"batch\",\n",
    "    width=28,\n",
    "    height=28\n",
    ")\n",
    "\n",
    "model = training_loop(\n",
    "    model,\n",
    "    device,\n",
    "    train_loader,\n",
    "    torch.optim.Adam(model.parameters()),\n",
    "    nn.CrossEntropyLoss(),\n",
    ")"
   ]
  },
  {
   "cell_type": "code",
   "execution_count": 20,
   "metadata": {},
   "outputs": [
    {
     "name": "stderr",
     "output_type": "stream",
     "text": [
      "100%|██████████| 157/157 [00:05<00:00, 29.82it/s]"
     ]
    },
    {
     "name": "stdout",
     "output_type": "stream",
     "text": [
      "Average Loss: 0.0802, Accuracy: 97.3300%\n"
     ]
    },
    {
     "name": "stderr",
     "output_type": "stream",
     "text": [
      "\n"
     ]
    }
   ],
   "source": [
    "\n",
    "model.eval()  # Set the model to evaluation mode\n",
    "total_loss = 0.0\n",
    "correct_predictions = 0\n",
    "total_samples = 0\n",
    "\n",
    "with torch.no_grad():\n",
    "    for inputs, labels in tqdm(test_loader):\n",
    "        inputs, labels = inputs.to(device), labels.to(device)  # Move data to the appropriate device\n",
    "\n",
    "        outputs = model(inputs)  # Forward pass\n",
    "        loss = criterion(outputs, labels)  # Compute loss\n",
    "        total_loss += loss.item()\n",
    "\n",
    "        # Compute accuracy\n",
    "        _, predicted = torch.max(outputs, 1)\n",
    "        correct_predictions += (predicted == labels).sum().item()\n",
    "        total_samples += labels.size(0)\n",
    "\n",
    "average_loss = total_loss / len(test_loader)\n",
    "accuracy = correct_predictions / total_samples\n",
    "\n",
    "print(f'Average Loss: {average_loss:.4f}, Accuracy: {accuracy:.4%}')\n",
    "    "
   ]
  },
  {
   "cell_type": "code",
   "execution_count": 21,
   "metadata": {},
   "outputs": [
    {
     "name": "stdout",
     "output_type": "stream",
     "text": [
      "Predictions: [7 2 1 0 4 1 4 9 5 9 0 6 9 0 1 5 9 7 5 4 9 6 6 5 4 0 7 4 0 1 3 1 3 4 7 2 7\n",
      " 1 2 1 1 7 4 2 3 5 1 2 4 4 6 3 5 5 6 0 4 1 9 5 7 8 9 3]\n",
      "True Labels:  [7 2 1 0 4 1 4 9 5 9 0 6 9 0 1 5 9 7 3 4 9 6 6 5 4 0 7 4 0 1 3 1 3 4 7 2 7\n",
      " 1 2 1 1 7 4 2 3 5 1 2 4 4 6 3 5 5 6 0 4 1 9 5 7 8 9 3]\n"
     ]
    },
    {
     "data": {
      "image/png": "[encoded data removed]",
      "text/plain": [
       "<Figure size 1200x400 with 1 Axes>"
      ]
     },
     "metadata": {},
     "output_type": "display_data"
    }
   ],
   "source": [
    "# Get a batch of test data\n",
    "test_x, test_y = next(iter(test_loader))\n",
    "\n",
    "# Move the input data to the device (e.g., 'cuda' or 'cpu')\n",
    "test_x = test_x.to(device)\n",
    "\n",
    "# Forward pass: Get model predictions\n",
    "predictions = torch.argmax(model(test_x), dim=1)  # Get the class with the highest score\n",
    "\n",
    "# Compare predictions with true labels\n",
    "print(\"Predictions:\", predictions.cpu().numpy())  # Convert predictions to NumPy array for readability\n",
    "print(\"True Labels: \", test_y.numpy())  # Convert true labels to NumPy array\n",
    "\n",
    "\n",
    "def show_predictions(images, true_labels, predicted_labels, num_images=6):\n",
    "    \"\"\"\n",
    "    Display a grid of images with their true and predicted labels.\n",
    "    \"\"\"\n",
    "    images = images[:num_images]  # Select the first `num_images`\n",
    "    true_labels = true_labels[:num_images]\n",
    "    predicted_labels = predicted_labels[:num_images]\n",
    "\n",
    "    # Create a grid of images\n",
    "    grid = torchvision.utils.make_grid(images, nrow=num_images, padding=2, normalize=True)\n",
    "    grid = grid.permute(1, 2, 0).cpu().numpy()  # Convert to NumPy for plotting\n",
    "\n",
    "    # Plot the grid of images\n",
    "    plt.figure(figsize=(12, 4))\n",
    "    plt.imshow(grid)\n",
    "    plt.title(\"True: \" + \", \".join(str(label.item()) for label in true_labels) +\n",
    "              \"\\nPred: \" + \", \".join(str(label.item()) for label in predicted_labels))\n",
    "    plt.axis('off')\n",
    "    plt.show()\n",
    "\n",
    "# Call the helper function\n",
    "show_predictions(test_x.cpu(), test_y, predictions.cpu(), num_images=6)\n"
   ]
  }
 ],
 "metadata": {
  "kernelspec": {
   "display_name": "base",
   "language": "python",
   "name": "python3"
  },
  "language_info": {
   "codemirror_mode": {
    "name": "ipython",
    "version": 3
   },
   "file_extension": ".py",
   "mimetype": "text/x-python",
   "name": "python",
   "nbconvert_exporter": "python",
   "pygments_lexer": "ipython3",
   "version": "3.11.5"
  }
 },
 "nbformat": 4,
 "nbformat_minor": 2
}
