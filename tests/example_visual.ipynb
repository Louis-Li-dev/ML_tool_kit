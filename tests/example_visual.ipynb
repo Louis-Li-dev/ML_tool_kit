{
 "cells": [
  {
   "cell_type": "markdown",
   "metadata": {},
   "source": [
    "- Installation"
   ]
  },
  {
   "cell_type": "code",
   "execution_count": 1,
   "metadata": {},
   "outputs": [
    {
     "name": "stdout",
     "output_type": "stream",
     "text": [
      "Collecting git+https://github.com/Louis-Li-dev/ML_tool_kit\n",
      "  Cloning https://github.com/Louis-Li-dev/ML_tool_kit to c:\\users\\ss348\\appdata\\local\\temp\\pip-req-build-cfr8j7v0\n",
      "  Resolved https://github.com/Louis-Li-dev/ML_tool_kit to commit 5d65225065be046646b21eb8069b0910348ea73d\n",
      "  Preparing metadata (setup.py): started\n",
      "  Preparing metadata (setup.py): finished with status 'done'\n",
      "Requirement already satisfied: tqdm==4.66.5 in c:\\users\\ss348\\anaconda3\\lib\\site-packages (from ML-toolkit==0.4.6) (4.66.5)\n",
      "Requirement already satisfied: torch==2.4.0 in c:\\users\\ss348\\anaconda3\\lib\\site-packages (from ML-toolkit==0.4.6) (2.4.0+cu118)\n",
      "Requirement already satisfied: numpy==1.26.4 in c:\\users\\ss348\\anaconda3\\lib\\site-packages (from ML-toolkit==0.4.6) (1.26.4)\n",
      "Requirement already satisfied: pandas==2.2.3 in c:\\users\\ss348\\anaconda3\\lib\\site-packages (from ML-toolkit==0.4.6) (2.2.3)\n",
      "Requirement already satisfied: matplotlib==3.10.0 in c:\\users\\ss348\\anaconda3\\lib\\site-packages (from ML-toolkit==0.4.6) (3.10.0)\n",
      "Requirement already satisfied: torch-geometric==2.5.3 in c:\\users\\ss348\\anaconda3\\lib\\site-packages (from ML-toolkit==0.4.6) (2.5.3)\n",
      "Requirement already satisfied: scikit-learn==1.4.2 in c:\\users\\ss348\\anaconda3\\lib\\site-packages (from ML-toolkit==0.4.6) (1.4.2)\n",
      "Requirement already satisfied: seaborn==0.13.2 in c:\\users\\ss348\\anaconda3\\lib\\site-packages (from ML-toolkit==0.4.6) (0.13.2)\n",
      "Requirement already satisfied: packaging>=20.0 in c:\\users\\ss348\\anaconda3\\lib\\site-packages (from matplotlib==3.10.0->ML-toolkit==0.4.6) (24.2)\n",
      "Requirement already satisfied: python-dateutil>=2.7 in c:\\users\\ss348\\anaconda3\\lib\\site-packages (from matplotlib==3.10.0->ML-toolkit==0.4.6) (2.9.0.post0)\n",
      "Requirement already satisfied: pillow>=8 in c:\\users\\ss348\\anaconda3\\lib\\site-packages (from matplotlib==3.10.0->ML-toolkit==0.4.6) (10.4.0)\n",
      "Requirement already satisfied: fonttools>=4.22.0 in c:\\users\\ss348\\anaconda3\\lib\\site-packages (from matplotlib==3.10.0->ML-toolkit==0.4.6) (4.55.3)\n",
      "Requirement already satisfied: kiwisolver>=1.3.1 in c:\\users\\ss348\\anaconda3\\lib\\site-packages (from matplotlib==3.10.0->ML-toolkit==0.4.6) (1.4.8)\n",
      "Requirement already satisfied: cycler>=0.10 in c:\\users\\ss348\\anaconda3\\lib\\site-packages (from matplotlib==3.10.0->ML-toolkit==0.4.6) (0.12.1)\n",
      "Requirement already satisfied: pyparsing>=2.3.1 in c:\\users\\ss348\\anaconda3\\lib\\site-packages (from matplotlib==3.10.0->ML-toolkit==0.4.6) (3.2.1)\n",
      "Requirement already satisfied: contourpy>=1.0.1 in c:\\users\\ss348\\anaconda3\\lib\\site-packages (from matplotlib==3.10.0->ML-toolkit==0.4.6) (1.3.1)\n",
      "Requirement already satisfied: tzdata>=2022.7 in c:\\users\\ss348\\appdata\\roaming\\python\\python311\\site-packages (from pandas==2.2.3->ML-toolkit==0.4.6) (2024.1)\n",
      "Requirement already satisfied: pytz>=2020.1 in c:\\users\\ss348\\appdata\\roaming\\python\\python311\\site-packages (from pandas==2.2.3->ML-toolkit==0.4.6) (2024.1)\n",
      "Requirement already satisfied: joblib>=1.2.0 in c:\\users\\ss348\\anaconda3\\lib\\site-packages (from scikit-learn==1.4.2->ML-toolkit==0.4.6) (1.2.0)\n",
      "Requirement already satisfied: threadpoolctl>=2.0.0 in c:\\users\\ss348\\anaconda3\\lib\\site-packages (from scikit-learn==1.4.2->ML-toolkit==0.4.6) (3.1.0)\n",
      "Requirement already satisfied: scipy>=1.6.0 in c:\\users\\ss348\\anaconda3\\lib\\site-packages (from scikit-learn==1.4.2->ML-toolkit==0.4.6) (1.11.4)\n",
      "Requirement already satisfied: filelock in c:\\users\\ss348\\anaconda3\\lib\\site-packages (from torch==2.4.0->ML-toolkit==0.4.6) (3.13.1)\n",
      "Requirement already satisfied: jinja2 in c:\\users\\ss348\\anaconda3\\lib\\site-packages (from torch==2.4.0->ML-toolkit==0.4.6) (3.1.2)\n",
      "Requirement already satisfied: networkx in c:\\users\\ss348\\anaconda3\\lib\\site-packages (from torch==2.4.0->ML-toolkit==0.4.6) (3.1)\n",
      "Requirement already satisfied: fsspec in c:\\users\\ss348\\anaconda3\\lib\\site-packages (from torch==2.4.0->ML-toolkit==0.4.6) (2023.10.0)\n",
      "Requirement already satisfied: sympy in c:\\users\\ss348\\anaconda3\\lib\\site-packages (from torch==2.4.0->ML-toolkit==0.4.6) (1.13.1)\n",
      "Requirement already satisfied: typing-extensions>=4.8.0 in c:\\users\\ss348\\anaconda3\\lib\\site-packages (from torch==2.4.0->ML-toolkit==0.4.6) (4.12.2)\n",
      "Requirement already satisfied: requests in c:\\users\\ss348\\anaconda3\\lib\\site-packages (from torch-geometric==2.5.3->ML-toolkit==0.4.6) (2.32.3)\n",
      "Requirement already satisfied: aiohttp in c:\\users\\ss348\\anaconda3\\lib\\site-packages (from torch-geometric==2.5.3->ML-toolkit==0.4.6) (3.10.2)\n",
      "Requirement already satisfied: psutil>=5.8.0 in c:\\users\\ss348\\appdata\\roaming\\python\\python311\\site-packages (from torch-geometric==2.5.3->ML-toolkit==0.4.6) (5.9.8)\n",
      "Requirement already satisfied: colorama in c:\\users\\ss348\\appdata\\roaming\\python\\python311\\site-packages (from tqdm==4.66.5->ML-toolkit==0.4.6) (0.4.6)\n",
      "Requirement already satisfied: six>=1.5 in c:\\users\\ss348\\anaconda3\\lib\\site-packages (from python-dateutil>=2.7->matplotlib==3.10.0->ML-toolkit==0.4.6) (1.16.0)\n",
      "Requirement already satisfied: aiohappyeyeballs>=2.3.0 in c:\\users\\ss348\\anaconda3\\lib\\site-packages (from aiohttp->torch-geometric==2.5.3->ML-toolkit==0.4.6) (2.3.5)\n",
      "Requirement already satisfied: multidict<7.0,>=4.5 in c:\\users\\ss348\\anaconda3\\lib\\site-packages (from aiohttp->torch-geometric==2.5.3->ML-toolkit==0.4.6) (6.0.4)\n",
      "Requirement already satisfied: attrs>=17.3.0 in c:\\users\\ss348\\anaconda3\\lib\\site-packages (from aiohttp->torch-geometric==2.5.3->ML-toolkit==0.4.6) (23.1.0)\n",
      "Requirement already satisfied: frozenlist>=1.1.1 in c:\\users\\ss348\\anaconda3\\lib\\site-packages (from aiohttp->torch-geometric==2.5.3->ML-toolkit==0.4.6) (1.4.0)\n",
      "Requirement already satisfied: yarl<2.0,>=1.0 in c:\\users\\ss348\\anaconda3\\lib\\site-packages (from aiohttp->torch-geometric==2.5.3->ML-toolkit==0.4.6) (1.9.3)\n",
      "Requirement already satisfied: aiosignal>=1.1.2 in c:\\users\\ss348\\anaconda3\\lib\\site-packages (from aiohttp->torch-geometric==2.5.3->ML-toolkit==0.4.6) (1.2.0)\n",
      "Requirement already satisfied: MarkupSafe>=2.0 in c:\\users\\ss348\\appdata\\roaming\\python\\python311\\site-packages (from jinja2->torch==2.4.0->ML-toolkit==0.4.6) (2.1.5)\n",
      "Requirement already satisfied: urllib3<3,>=1.21.1 in c:\\users\\ss348\\anaconda3\\lib\\site-packages (from requests->torch-geometric==2.5.3->ML-toolkit==0.4.6) (2.2.2)\n",
      "Requirement already satisfied: idna<4,>=2.5 in c:\\users\\ss348\\anaconda3\\lib\\site-packages (from requests->torch-geometric==2.5.3->ML-toolkit==0.4.6) (3.4)\n",
      "Requirement already satisfied: certifi>=2017.4.17 in c:\\users\\ss348\\anaconda3\\lib\\site-packages (from requests->torch-geometric==2.5.3->ML-toolkit==0.4.6) (2024.8.30)\n",
      "Requirement already satisfied: charset-normalizer<4,>=2 in c:\\users\\ss348\\anaconda3\\lib\\site-packages (from requests->torch-geometric==2.5.3->ML-toolkit==0.4.6) (2.0.4)\n",
      "Requirement already satisfied: mpmath<1.4,>=1.1.0 in c:\\users\\ss348\\anaconda3\\lib\\site-packages (from sympy->torch==2.4.0->ML-toolkit==0.4.6) (1.3.0)\n",
      "Building wheels for collected packages: ML-toolkit\n",
      "  Building wheel for ML-toolkit (setup.py): started\n",
      "  Building wheel for ML-toolkit (setup.py): finished with status 'done'\n",
      "  Created wheel for ML-toolkit: filename=ML_toolkit-0.4.6-py3-none-any.whl size=31167 sha256=b73096780f342178a24b8bfb55300a0588345317a12547ca17e93e4daf54d27f\n",
      "  Stored in directory: C:\\Users\\ss348\\AppData\\Local\\Temp\\pip-ephem-wheel-cache-6y8dc14r\\wheels\\39\\df\\ec\\41cf433b15fc8d0fe83fc13038459a426ccadd03df9dc18ce6\n",
      "Successfully built ML-toolkit\n",
      "Installing collected packages: ML-toolkit\n",
      "  Attempting uninstall: ML-toolkit\n",
      "    Found existing installation: ML-toolkit 0.4.5\n",
      "    Uninstalling ML-toolkit-0.4.5:\n",
      "      Successfully uninstalled ML-toolkit-0.4.5\n",
      "Successfully installed ML-toolkit-0.4.6\n",
      "Note: you may need to restart the kernel to use updated packages.\n"
     ]
    },
    {
     "name": "stderr",
     "output_type": "stream",
     "text": [
      "WARNING: Ignoring invalid distribution -illow (c:\\users\\ss348\\anaconda3\\lib\\site-packages)\n",
      "WARNING: Ignoring invalid distribution -illow (c:\\users\\ss348\\anaconda3\\lib\\site-packages)\n",
      "  Running command git clone --filter=blob:none -q https://github.com/Louis-Li-dev/ML_tool_kit 'C:\\Users\\ss348\\AppData\\Local\\Temp\\pip-req-build-cfr8j7v0'\n",
      "WARNING: Ignoring invalid distribution -illow (c:\\users\\ss348\\anaconda3\\lib\\site-packages)\n",
      "    WARNING: Ignoring invalid distribution -illow (c:\\users\\ss348\\anaconda3\\lib\\site-packages)\n",
      "WARNING: Ignoring invalid distribution -illow (c:\\users\\ss348\\anaconda3\\lib\\site-packages)\n",
      "WARNING: Ignoring invalid distribution -illow (c:\\users\\ss348\\anaconda3\\lib\\site-packages)\n",
      "WARNING: Ignoring invalid distribution -illow (c:\\users\\ss348\\anaconda3\\lib\\site-packages)\n"
     ]
    }
   ],
   "source": [
    "%pip install git+https://github.com/Louis-Li-dev/ML_tool_kit\n",
    "# %pip install torch\n",
    "# %pip install numpy\n",
    "# %pip install matplotlib\n",
    "# %pip install tqdm"
   ]
  },
  {
   "cell_type": "markdown",
   "metadata": {},
   "source": [
    "- Resolve Paths"
   ]
  },
  {
   "cell_type": "code",
   "execution_count": null,
   "metadata": {},
   "outputs": [],
   "source": [
    "\n",
    "import os\n",
    "import sys\n",
    "BASE_DIR = os.getcwd()\n",
    "parent_dir = os.path.join(BASE_DIR, '..')\n",
    "if parent_dir not in sys.path:\n",
    "    sys.path.append(parent_dir)"
   ]
  },
  {
   "cell_type": "markdown",
   "metadata": {},
   "source": [
    "- Import Packages"
   ]
  },
  {
   "cell_type": "code",
   "execution_count": null,
   "metadata": {},
   "outputs": [],
   "source": [
    "import torch\n",
    "import torch.nn as nn\n",
    "import torchvision\n",
    "from mkit.torch_support.nn_utils import training_loop\n",
    "from mkit.torch_support.model.Autoencoder import GANEncoder\n",
    "from mkit.torch_support.model.CNN import AdjustableCNN\n",
    "from torchvision import datasets, transforms\n",
    "from torch.utils.data import DataLoader\n",
    "import matplotlib.pyplot as plt\n",
    "from tqdm import tqdm"
   ]
  },
  {
   "cell_type": "markdown",
   "metadata": {},
   "source": [
    "- Use MNIST Data"
   ]
  },
  {
   "cell_type": "code",
   "execution_count": null,
   "metadata": {},
   "outputs": [],
   "source": [
    "NUM_OF_CLASSES = 10\n",
    "WIDTH, HEIGHT = 28, 28"
   ]
  },
  {
   "cell_type": "code",
   "execution_count": null,
   "metadata": {},
   "outputs": [],
   "source": [
    "\n",
    "# Define transformations for the dataset\n",
    "transform = transforms.Compose([\n",
    "    transforms.ToTensor(),\n",
    "    transforms.Normalize((0.5,), (0.5,))  # Normalize to range [-1, 1]\n",
    "])\n",
    "\n",
    "# Download and load the training dataset\n",
    "train_dataset = datasets.MNIST(\n",
    "    root='./data',\n",
    "    train=True,\n",
    "    transform=transform,\n",
    "    download=True\n",
    ")\n",
    "\n",
    "# Download and load the test dataset\n",
    "test_dataset = datasets.MNIST(\n",
    "    root='./data',\n",
    "    train=False,\n",
    "    transform=transform,\n",
    "    download=True\n",
    ")\n",
    "# Create DataLoader for batching\n",
    "train_loader = DataLoader(train_dataset, batch_size=64, shuffle=True)\n",
    "test_loader = DataLoader(test_dataset, batch_size=64, shuffle=False)\n",
    "\n"
   ]
  },
  {
   "cell_type": "markdown",
   "metadata": {},
   "source": [
    "- Inherit a model"
   ]
  },
  {
   "cell_type": "code",
   "execution_count": null,
   "metadata": {},
   "outputs": [],
   "source": [
    "\n",
    "class Predictor(nn.Module):\n",
    "    def __init__(self, width, height, hidden_dims, output_dim):\n",
    "        \"\"\"\n",
    "        Predictor class with GANEncoder and fully connected layers for prediction.\n",
    "\n",
    "        Args:\n",
    "            hidden_dims (list[int]): List of dimensions for convolutional layers in GANEncoder.\n",
    "            output_dim (int): Dimension of the prediction output.\n",
    "        \"\"\"\n",
    "        super(Predictor, self).__init__()\n",
    "        \n",
    "        # Encoder\n",
    "        self.encoder = GANEncoder(hidden_dims=hidden_dims)\n",
    "        \n",
    "        # Fully connected layers for prediction\n",
    "        self.fc_layers = nn.Sequential(\n",
    "            nn.Linear(hidden_dims[-1] * width * height, 128),  # From the last encoder dimension to 128\n",
    "            nn.ReLU(),\n",
    "            nn.Linear(128, 64),              # From 128 to 64\n",
    "            nn.ReLU(),\n",
    "            nn.Linear(64, output_dim)        # From 64 to output dimension\n",
    "        )\n",
    "\n",
    "    def forward(self, x):\n",
    "        \"\"\"\n",
    "        Forward pass for the predictor.\n",
    "\n",
    "        Args:\n",
    "            x (torch.Tensor): Input tensor.\n",
    "\n",
    "        Returns:\n",
    "            torch.Tensor: Prediction output.\n",
    "        \"\"\"\n",
    "        x = self.encoder(x)  # Pass through the encoder\n",
    "        x = x.view(x.size(0), -1)  # Flatten the output for the fully connected layers\n",
    "        x = self.fc_layers(x)  # Pass through the fully connected layers\n",
    "        return x"
   ]
  },
  {
   "cell_type": "markdown",
   "metadata": {},
   "source": [
    "- Training"
   ]
  },
  {
   "cell_type": "code",
   "execution_count": null,
   "metadata": {},
   "outputs": [],
   "source": [
    "\n",
    "\n",
    "x, y = next(iter(train_loader))\n",
    "\n",
    "model = Predictor(width=WIDTH, height=HEIGHT, hidden_dims=[1, 16], output_dim=NUM_OF_CLASSES)\n",
    "device = torch.device('cuda')\n",
    "\n",
    "criterion = torch.nn.CrossEntropyLoss()"
   ]
  },
  {
   "cell_type": "code",
   "execution_count": null,
   "metadata": {},
   "outputs": [],
   "source": [
    "\n",
    "model, losses = training_loop(\n",
    "    model=model, \n",
    "    device=device,\n",
    "    train_loader=train_loader,\n",
    "    optimizer=torch.optim.Adam(model.parameters()),\n",
    "    criterion=criterion,\n",
    "    keep_losses=True,\n",
    ")"
   ]
  },
  {
   "cell_type": "markdown",
   "metadata": {},
   "source": [
    "- Evaluation"
   ]
  },
  {
   "cell_type": "code",
   "execution_count": null,
   "metadata": {},
   "outputs": [],
   "source": [
    "\n",
    "model.eval()  # Set the model to evaluation mode\n",
    "total_loss = 0.0\n",
    "correct_predictions = 0\n",
    "total_samples = 0\n",
    "\n",
    "with torch.no_grad():\n",
    "    for inputs, labels in tqdm(test_loader):\n",
    "        inputs, labels = inputs.to(device), labels.to(device)  # Move data to the appropriate device\n",
    "\n",
    "        outputs = model(inputs)  # Forward pass\n",
    "        loss = criterion(outputs, labels)  # Compute loss\n",
    "        total_loss += loss.item()\n",
    "\n",
    "        # Compute accuracy\n",
    "        _, predicted = torch.max(outputs, 1)\n",
    "        correct_predictions += (predicted == labels).sum().item()\n",
    "        total_samples += labels.size(0)\n",
    "\n",
    "average_loss = total_loss / len(test_loader)\n",
    "accuracy = correct_predictions / total_samples\n",
    "\n",
    "print(f'Average Loss: {average_loss:.4f}, Accuracy: {accuracy:.4%}')\n",
    "    "
   ]
  },
  {
   "cell_type": "markdown",
   "metadata": {},
   "source": [
    "- Case Study"
   ]
  },
  {
   "cell_type": "code",
   "execution_count": null,
   "metadata": {},
   "outputs": [],
   "source": [
    "# Get a batch of test data\n",
    "test_x, test_y = next(iter(test_loader))\n",
    "\n",
    "# Move the input data to the device (e.g., 'cuda' or 'cpu')\n",
    "test_x = test_x.to(device)\n",
    "\n",
    "# Forward pass: Get model predictions\n",
    "predictions = torch.argmax(model(test_x), dim=1)  # Get the class with the highest score\n",
    "\n",
    "# Compare predictions with true labels\n",
    "print(\"Predictions:\", predictions.cpu().numpy())  # Convert predictions to NumPy array for readability\n",
    "print(\"True Labels: \", test_y.numpy())  # Convert true labels to NumPy array\n",
    "\n",
    "\n",
    "def show_predictions(images, true_labels, predicted_labels, num_images=6):\n",
    "    \"\"\"\n",
    "    Display a grid of images with their true and predicted labels.\n",
    "    \"\"\"\n",
    "    images = images[:num_images]  # Select the first `num_images`\n",
    "    true_labels = true_labels[:num_images]\n",
    "    predicted_labels = predicted_labels[:num_images]\n",
    "\n",
    "    # Create a grid of images\n",
    "    grid = torchvision.utils.make_grid(images, nrow=num_images, padding=2, normalize=True)\n",
    "    grid = grid.permute(1, 2, 0).cpu().numpy()  # Convert to NumPy for plotting\n",
    "\n",
    "    # Plot the grid of images\n",
    "    plt.figure(figsize=(12, 4))\n",
    "    plt.imshow(grid)\n",
    "    plt.title(\"True: \" + \", \".join(str(label.item()) for label in true_labels) +\n",
    "              \"\\nPred: \" + \", \".join(str(label.item()) for label in predicted_labels))\n",
    "    plt.axis('off')\n",
    "    plt.show()\n",
    "\n",
    "# Call the helper function\n",
    "show_predictions(test_x.cpu(), test_y, predictions.cpu(), num_images=6)\n"
   ]
  },
  {
   "cell_type": "markdown",
   "metadata": {},
   "source": [
    "# Use CNN"
   ]
  },
  {
   "cell_type": "code",
   "execution_count": null,
   "metadata": {},
   "outputs": [],
   "source": [
    "model = AdjustableCNN(\n",
    "    input_channels=1,\n",
    "    num_filters = [1, 16],\n",
    "    normalization=\"batch\",\n",
    "    width=28,\n",
    "    height=28\n",
    ")\n",
    "\n",
    "model = training_loop(\n",
    "    model,\n",
    "    device,\n",
    "    train_loader,\n",
    "    torch.optim.Adam(model.parameters()),\n",
    "    nn.CrossEntropyLoss(),\n",
    ")"
   ]
  },
  {
   "cell_type": "code",
   "execution_count": null,
   "metadata": {},
   "outputs": [],
   "source": [
    "\n",
    "model.eval()  # Set the model to evaluation mode\n",
    "total_loss = 0.0\n",
    "correct_predictions = 0\n",
    "total_samples = 0\n",
    "\n",
    "with torch.no_grad():\n",
    "    for inputs, labels in tqdm(test_loader):\n",
    "        inputs, labels = inputs.to(device), labels.to(device)  # Move data to the appropriate device\n",
    "\n",
    "        outputs = model(inputs)  # Forward pass\n",
    "        loss = criterion(outputs, labels)  # Compute loss\n",
    "        total_loss += loss.item()\n",
    "\n",
    "        # Compute accuracy\n",
    "        _, predicted = torch.max(outputs, 1)\n",
    "        correct_predictions += (predicted == labels).sum().item()\n",
    "        total_samples += labels.size(0)\n",
    "\n",
    "average_loss = total_loss / len(test_loader)\n",
    "accuracy = correct_predictions / total_samples\n",
    "\n",
    "print(f'Average Loss: {average_loss:.4f}, Accuracy: {accuracy:.4%}')\n",
    "    "
   ]
  },
  {
   "cell_type": "code",
   "execution_count": null,
   "metadata": {},
   "outputs": [],
   "source": [
    "# Get a batch of test data\n",
    "test_x, test_y = next(iter(test_loader))\n",
    "\n",
    "# Move the input data to the device (e.g., 'cuda' or 'cpu')\n",
    "test_x = test_x.to(device)\n",
    "\n",
    "# Forward pass: Get model predictions\n",
    "predictions = torch.argmax(model(test_x), dim=1)  # Get the class with the highest score\n",
    "\n",
    "# Compare predictions with true labels\n",
    "print(\"Predictions:\", predictions.cpu().numpy())  # Convert predictions to NumPy array for readability\n",
    "print(\"True Labels: \", test_y.numpy())  # Convert true labels to NumPy array\n",
    "\n",
    "\n",
    "def show_predictions(images, true_labels, predicted_labels, num_images=6):\n",
    "    \"\"\"\n",
    "    Display a grid of images with their true and predicted labels.\n",
    "    \"\"\"\n",
    "    images = images[:num_images]  # Select the first `num_images`\n",
    "    true_labels = true_labels[:num_images]\n",
    "    predicted_labels = predicted_labels[:num_images]\n",
    "\n",
    "    # Create a grid of images\n",
    "    grid = torchvision.utils.make_grid(images, nrow=num_images, padding=2, normalize=True)\n",
    "    grid = grid.permute(1, 2, 0).cpu().numpy()  # Convert to NumPy for plotting\n",
    "\n",
    "    # Plot the grid of images\n",
    "    plt.figure(figsize=(12, 4))\n",
    "    plt.imshow(grid)\n",
    "    plt.title(\"True: \" + \", \".join(str(label.item()) for label in true_labels) +\n",
    "              \"\\nPred: \" + \", \".join(str(label.item()) for label in predicted_labels))\n",
    "    plt.axis('off')\n",
    "    plt.show()\n",
    "\n",
    "# Call the helper function\n",
    "show_predictions(test_x.cpu(), test_y, predictions.cpu(), num_images=6)\n"
   ]
  }
 ],
 "metadata": {
  "kernelspec": {
   "display_name": "base",
   "language": "python",
   "name": "python3"
  },
  "language_info": {
   "codemirror_mode": {
    "name": "ipython",
    "version": 3
   },
   "file_extension": ".py",
   "mimetype": "text/x-python",
   "name": "python",
   "nbconvert_exporter": "python",
   "pygments_lexer": "ipython3",
   "version": "3.11.5"
  }
 },
 "nbformat": 4,
 "nbformat_minor": 2
}
